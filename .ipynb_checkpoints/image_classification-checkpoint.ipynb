{
 "cells": [
  {
   "cell_type": "markdown",
   "metadata": {
    "collapsed": true
   },
   "source": [
    "# Image Classification\n",
    "In this project, you'll classify images from the [CIFAR-10 dataset](https://www.cs.toronto.edu/~kriz/cifar.html).  The dataset consists of airplanes, dogs, cats, and other objects. You'll preprocess the images, then train a convolutional neural network on all the samples. The images need to be normalized and the labels need to be one-hot encoded.  You'll get to apply what you learned and build a convolutional, max pooling, dropout, and fully connected layers.  At the end, you'll get to see your neural network's predictions on the sample images.\n",
    "## Get the Data\n",
    "Run the following cell to download the [CIFAR-10 dataset for python](https://www.cs.toronto.edu/~kriz/cifar-10-python.tar.gz)."
   ]
  },
  {
   "cell_type": "code",
   "execution_count": 1,
   "metadata": {},
   "outputs": [
    {
     "name": "stdout",
     "output_type": "stream",
     "text": [
      "All files found!\n"
     ]
    }
   ],
   "source": [
    "\"\"\"\n",
    "DON'T MODIFY ANYTHING IN THIS CELL THAT IS BELOW THIS LINE\n",
    "\"\"\"\n",
    "from urllib.request import urlretrieve\n",
    "from os.path import isfile, isdir\n",
    "from tqdm import tqdm\n",
    "import problem_unittests as tests\n",
    "import tarfile\n",
    "\n",
    "cifar10_dataset_folder_path = 'cifar-10-batches-py'\n",
    "\n",
    "class DLProgress(tqdm):\n",
    "    last_block = 0\n",
    "\n",
    "    def hook(self, block_num=1, block_size=1, total_size=None):\n",
    "        self.total = total_size\n",
    "        self.update((block_num - self.last_block) * block_size)\n",
    "        self.last_block = block_num\n",
    "\n",
    "if not isfile('cifar-10-python.tar.gz'):\n",
    "    with DLProgress(unit='B', unit_scale=True, miniters=1, desc='CIFAR-10 Dataset') as pbar:\n",
    "        urlretrieve(\n",
    "            'https://www.cs.toronto.edu/~kriz/cifar-10-python.tar.gz',\n",
    "            'cifar-10-python.tar.gz',\n",
    "            pbar.hook)\n",
    "\n",
    "if not isdir(cifar10_dataset_folder_path):\n",
    "    with tarfile.open('cifar-10-python.tar.gz') as tar:\n",
    "        tar.extractall()\n",
    "        tar.close()\n",
    "\n",
    "\n",
    "tests.test_folder_path(cifar10_dataset_folder_path)"
   ]
  },
  {
   "cell_type": "markdown",
   "metadata": {},
   "source": [
    "## Explore the Data\n",
    "The dataset is broken into batches to prevent your machine from running out of memory.  The CIFAR-10 dataset consists of 5 batches, named `data_batch_1`, `data_batch_2`, etc.. Each batch contains the labels and images that are one of the following:\n",
    "* airplane\n",
    "* automobile\n",
    "* bird\n",
    "* cat\n",
    "* deer\n",
    "* dog\n",
    "* frog\n",
    "* horse\n",
    "* ship\n",
    "* truck\n",
    "\n",
    "Understanding a dataset is part of making predictions on the data.  Play around with the code cell below by changing the `batch_id` and `sample_id`. The `batch_id` is the id for a batch (1-5). The `sample_id` is the id for a image and label pair in the batch.\n",
    "\n",
    "Ask yourself \"What are all possible labels?\", \"What is the range of values for the image data?\", \"Are the labels in order or random?\".  Answers to questions like these will help you preprocess the data and end up with better predictions."
   ]
  },
  {
   "cell_type": "code",
   "execution_count": 2,
   "metadata": {},
   "outputs": [
    {
     "name": "stdout",
     "output_type": "stream",
     "text": [
      "\n",
      "Stats of batch 1:\n",
      "Samples: 10000\n",
      "Label Counts: {0: 1005, 1: 974, 2: 1032, 3: 1016, 4: 999, 5: 937, 6: 1030, 7: 1001, 8: 1025, 9: 981}\n",
      "First 20 Labels: [6, 9, 9, 4, 1, 1, 2, 7, 8, 3, 4, 7, 7, 2, 9, 9, 9, 3, 2, 6]\n",
      "\n",
      "Example of Image 5:\n",
      "Image - Min Value: 0 Max Value: 252\n",
      "Image - Shape: (32, 32, 3)\n",
      "Label - Label Id: 1 Name: automobile\n"
     ]
    },
    {
     "data": {
      "image/png": "[encoded data removed]",
      "text/plain": [
       "<matplotlib.figure.Figure at 0x2412a28ec88>"
      ]
     },
     "metadata": {
      "image/png": {
       "height": 250,
       "width": 253
      }
     },
     "output_type": "display_data"
    }
   ],
   "source": [
    "%matplotlib inline\n",
    "%config InlineBackend.figure_format = 'retina'\n",
    "\n",
    "import helper\n",
    "import numpy as np\n",
    "\n",
    "# Explore the dataset\n",
    "batch_id = 1\n",
    "sample_id = 5\n",
    "helper.display_stats(cifar10_dataset_folder_path, batch_id, sample_id)"
   ]
  },
  {
   "cell_type": "markdown",
   "metadata": {},
   "source": [
    "## Implement Preprocess Functions\n",
    "### Normalize\n",
    "In the cell below, implement the `normalize` function to take in image data, `x`, and return it as a normalized Numpy array. The values should be in the range of 0 to 1, inclusive.  The return object should be the same shape as `x`."
   ]
  },
  {
   "cell_type": "code",
   "execution_count": 3,
   "metadata": {
    "scrolled": false
   },
   "outputs": [
    {
     "name": "stdout",
     "output_type": "stream",
     "text": [
      "Tests Passed\n"
     ]
    }
   ],
   "source": [
    "def normalize(x):\n",
    "    \"\"\"\n",
    "    Normalize a list of sample image data in the range of 0 to 1\n",
    "    : x: List of image data.  The image shape is (32, 32, 3)\n",
    "    : return: Numpy array of normalize data\n",
    "    \"\"\"\n",
    "    \n",
    "    # Print x to observe x's range\n",
    "#     print(x)\n",
    "    \n",
    "    # Adjust image size by dividing 255 to ensure that data ranges between 0 and 1\n",
    "    adjust_x = x / 255.0\n",
    "    \n",
    "    return adjust_x\n",
    "\n",
    "\n",
    "\"\"\"\n",
    "DON'T MODIFY ANYTHING IN THIS CELL THAT IS BELOW THIS LINE\n",
    "\"\"\"\n",
    "tests.test_normalize(normalize)"
   ]
  },
  {
   "cell_type": "markdown",
   "metadata": {},
   "source": [
    "### One-hot encode\n",
    "Just like the previous code cell, you'll be implementing a function for preprocessing.  This time, you'll implement the `one_hot_encode` function. The input, `x`, are a list of labels.  Implement the function to return the list of labels as One-Hot encoded Numpy array.  The possible values for labels are 0 to 9. The one-hot encoding function should return the same encoding for each value between each call to `one_hot_encode`.  Make sure to save the map of encodings outside the function.\n",
    "\n",
    "**Hint:**\n",
    "\n",
    "Look into LabelBinarizer in the preprocessing module of sklearn."
   ]
  },
  {
   "cell_type": "code",
   "execution_count": 4,
   "metadata": {},
   "outputs": [
    {
     "name": "stdout",
     "output_type": "stream",
     "text": [
      "Tests Passed\n"
     ]
    }
   ],
   "source": [
    "from sklearn import preprocessing\n",
    "\n",
    "lb = preprocessing.LabelBinarizer()\n",
    "lb.fit([0,1,2,3,4,5,6,7,8,9])\n",
    "\n",
    "def one_hot_encode(x):\n",
    "    \"\"\"\n",
    "    One hot encode a list of sample labels. Return a one-hot encoded vector for each label.\n",
    "    : x: List of sample Labels\n",
    "    : return: Numpy array of one-hot encoded labels\n",
    "    \"\"\"\n",
    "    # Convert all input numbers to labels wihch displayed as a array from 0 to 9\n",
    "#     print(x)\n",
    "#     print(lb.transform(x))\n",
    "    return lb.transform(x)\n",
    "\n",
    "\n",
    "\"\"\"\n",
    "DON'T MODIFY ANYTHING IN THIS CELL THAT IS BELOW THIS LINE\n",
    "\"\"\"\n",
    "tests.test_one_hot_encode(one_hot_encode)"
   ]
  },
  {
   "cell_type": "markdown",
   "metadata": {},
   "source": [
    "### Randomize Data\n",
    "As you saw from exploring the data above, the order of the samples are randomized.  It doesn't hurt to randomize it again, but you don't need to for this dataset."
   ]
  },
  {
   "cell_type": "markdown",
   "metadata": {},
   "source": [
    "## Preprocess all the data and save it\n",
    "Running the code cell below will preprocess all the CIFAR-10 data and save it to file. The code below also uses 10% of the training data for validation."
   ]
  },
  {
   "cell_type": "code",
   "execution_count": 5,
   "metadata": {
    "collapsed": true
   },
   "outputs": [],
   "source": [
    "\"\"\"\n",
    "DON'T MODIFY ANYTHING IN THIS CELL\n",
    "\"\"\"\n",
    "# Preprocess Training, Validation, and Testing Data\n",
    "helper.preprocess_and_save_data(cifar10_dataset_folder_path, normalize, one_hot_encode)"
   ]
  },
  {
   "cell_type": "markdown",
   "metadata": {},
   "source": [
    "# Check Point\n",
    "This is your first checkpoint.  If you ever decide to come back to this notebook or have to restart the notebook, you can start from here.  The preprocessed data has been saved to disk."
   ]
  },
  {
   "cell_type": "code",
   "execution_count": 6,
   "metadata": {
    "collapsed": true
   },
   "outputs": [],
   "source": [
    "\"\"\"\n",
    "DON'T MODIFY ANYTHING IN THIS CELL\n",
    "\"\"\"\n",
    "import pickle\n",
    "import problem_unittests as tests\n",
    "import helper\n",
    "\n",
    "# Load the Preprocessed Validation data\n",
    "valid_features, valid_labels = pickle.load(open('preprocess_validation.p', mode='rb'))"
   ]
  },
  {
   "cell_type": "markdown",
   "metadata": {},
   "source": [
    "## Build the network\n",
    "For the neural network, you'll build each layer into a function.  Most of the code you've seen has been outside of functions. To test your code more thoroughly, we require that you put each layer in a function.  This allows us to give you better feedback and test for simple mistakes using our unittests before you submit your project.\n",
    "\n",
    ">**Note:** If you're finding it hard to dedicate enough time for this course each week, we've provided a small shortcut to this part of the project. In the next couple of problems, you'll have the option to use classes from the [TensorFlow Layers](https://www.tensorflow.org/api_docs/python/tf/layers) or [TensorFlow Layers (contrib)](https://www.tensorflow.org/api_guides/python/contrib.layers) packages to build each layer, except the layers you build in the \"Convolutional and Max Pooling Layer\" section.  TF Layers is similar to Keras's and TFLearn's abstraction to layers, so it's easy to pickup.\n",
    "\n",
    ">However, if you would like to get the most out of this course, try to solve all the problems _without_ using anything from the TF Layers packages. You **can** still use classes from other packages that happen to have the same name as ones you find in TF Layers! For example, instead of using the TF Layers version of the `conv2d` class, [tf.layers.conv2d](https://www.tensorflow.org/api_docs/python/tf/layers/conv2d), you would want to use the TF Neural Network version of `conv2d`, [tf.nn.conv2d](https://www.tensorflow.org/api_docs/python/tf/nn/conv2d). \n",
    "\n",
    "Let's begin!\n",
    "\n",
    "### Input\n",
    "The neural network needs to read the image data, one-hot encoded labels, and dropout keep probability. Implement the following functions\n",
    "* Implement `neural_net_image_input`\n",
    " * Return a [TF Placeholder](https://www.tensorflow.org/api_docs/python/tf/placeholder)\n",
    " * Set the shape using `image_shape` with batch size set to `None`.\n",
    " * Name the TensorFlow placeholder \"x\" using the TensorFlow `name` parameter in the [TF Placeholder](https://www.tensorflow.org/api_docs/python/tf/placeholder).\n",
    "* Implement `neural_net_label_input`\n",
    " * Return a [TF Placeholder](https://www.tensorflow.org/api_docs/python/tf/placeholder)\n",
    " * Set the shape using `n_classes` with batch size set to `None`.\n",
    " * Name the TensorFlow placeholder \"y\" using the TensorFlow `name` parameter in the [TF Placeholder](https://www.tensorflow.org/api_docs/python/tf/placeholder).\n",
    "* Implement `neural_net_keep_prob_input`\n",
    " * Return a [TF Placeholder](https://www.tensorflow.org/api_docs/python/tf/placeholder) for dropout keep probability.\n",
    " * Name the TensorFlow placeholder \"keep_prob\" using the TensorFlow `name` parameter in the [TF Placeholder](https://www.tensorflow.org/api_docs/python/tf/placeholder).\n",
    "\n",
    "These names will be used at the end of the project to load your saved model.\n",
    "\n",
    "Note: `None` for shapes in TensorFlow allow for a dynamic size."
   ]
  },
  {
   "cell_type": "code",
   "execution_count": 7,
   "metadata": {},
   "outputs": [
    {
     "name": "stdout",
     "output_type": "stream",
     "text": [
      "Image Input Tests Passed.\n",
      "Label Input Tests Passed.\n",
      "Keep Prob Tests Passed.\n"
     ]
    }
   ],
   "source": [
    "import tensorflow as tf\n",
    "\n",
    "def neural_net_image_input(image_shape):\n",
    "    \"\"\"\n",
    "    Return a Tensor for a batch of image input\n",
    "    : image_shape: Shape of the images\n",
    "    : return: Tensor for image input.\n",
    "    \"\"\"\n",
    "    x = tf.placeholder(tf.float32, shape = (None, image_shape[0], image_shape[1], image_shape[2]), name = \"x\")\n",
    "    return x\n",
    "\n",
    "\n",
    "def neural_net_label_input(n_classes):\n",
    "    \"\"\"\n",
    "    Return a Tensor for a batch of label input\n",
    "    : n_classes: Number of classes\n",
    "    : return: Tensor for label input.\n",
    "    \"\"\"\n",
    "    y = tf.placeholder(tf.float32, shape = (None, n_classes), name = \"y\")\n",
    "    return y\n",
    "\n",
    "\n",
    "def neural_net_keep_prob_input():\n",
    "    \"\"\"\n",
    "    Return a Tensor for keep probability\n",
    "    : return: Tensor for keep probability.\n",
    "    \"\"\"\n",
    "    keep_prob = tf.placeholder(tf.float32, name = \"keep_prob\")\n",
    "    return keep_prob\n",
    "\n",
    "\n",
    "\"\"\"\n",
    "DON'T MODIFY ANYTHING IN THIS CELL THAT IS BELOW THIS LINE\n",
    "\"\"\"\n",
    "tf.reset_default_graph()\n",
    "tests.test_nn_image_inputs(neural_net_image_input)\n",
    "tests.test_nn_label_inputs(neural_net_label_input)\n",
    "tests.test_nn_keep_prob_inputs(neural_net_keep_prob_input)"
   ]
  },
  {
   "cell_type": "markdown",
   "metadata": {},
   "source": [
    "### Convolution and Max Pooling Layer\n",
    "Convolution layers have a lot of success with images. For this code cell, you should implement the function `conv2d_maxpool` to apply convolution then max pooling:\n",
    "* Create the weight and bias using `conv_ksize`, `conv_num_outputs` and the shape of `x_tensor`.\n",
    "* Apply a convolution to `x_tensor` using weight and `conv_strides`.\n",
    " * We recommend you use same padding, but you're welcome to use any padding.\n",
    "* Add bias\n",
    "* Add a nonlinear activation to the convolution.\n",
    "* Apply Max Pooling using `pool_ksize` and `pool_strides`.\n",
    " * We recommend you use same padding, but you're welcome to use any padding.\n",
    "\n",
    "**Note:** You **can't** use [TensorFlow Layers](https://www.tensorflow.org/api_docs/python/tf/layers) or [TensorFlow Layers (contrib)](https://www.tensorflow.org/api_guides/python/contrib.layers) for **this** layer, but you can still use TensorFlow's [Neural Network](https://www.tensorflow.org/api_docs/python/tf/nn) package. You may still use the shortcut option for all the **other** layers.\n",
    "\n",
    "** Hint: **\n",
    "\n",
    "When unpacking values as an argument in Python, look into the [unpacking](https://docs.python.org/3/tutorial/controlflow.html#unpacking-argument-lists) operator. "
   ]
  },
  {
   "cell_type": "code",
   "execution_count": 8,
   "metadata": {},
   "outputs": [
    {
     "name": "stdout",
     "output_type": "stream",
     "text": [
      "Tests Passed\n"
     ]
    }
   ],
   "source": [
    "def conv2d_maxpool(x_tensor, conv_num_outputs, conv_ksize, conv_strides, pool_ksize, pool_strides):\n",
    "    \"\"\"\n",
    "    Apply convolution then max pooling to x_tensor\n",
    "    :param x_tensor: TensorFlow Tensor\n",
    "    :param conv_num_outputs: Number of outputs for the convolutional layer\n",
    "    :param conv_ksize: kernal size 2-D Tuple for the convolutional layer\n",
    "    :param conv_strides: Stride 2-D Tuple for convolution\n",
    "    :param pool_ksize: kernal size 2-D Tuple for pool\n",
    "    :param pool_strides: Stride 2-D Tuple for pool\n",
    "    : return: A tensor that represents convolution and max pooling of x_tensor\n",
    "    \"\"\"\n",
    "    height = conv_ksize[0]\n",
    "    width = conv_ksize[1]\n",
    "    depth = x_tensor.shape[3].value\n",
    "    \n",
    "    # Use truncated_normal to generate weights randomly\n",
    "    # [height, weight, input_size, output_size]\n",
    "    weight_shape = [height, width, depth, conv_num_outputs]\n",
    "    weight = tf.Variable(tf.truncated_normal(weight_shape, mean = 0.0, stddev = 0.1)) # I made a silly mistake that I sete stddev 1.0\n",
    "    # generate bias\n",
    "    bias = tf.Variable(tf.zeros(conv_num_outputs))\n",
    "    # [batch_size, height, weight, depth]\n",
    "    strides = [1, conv_strides[0], conv_strides[1], 1]\n",
    "    padding = \"SAME\"\n",
    "    conv2d = tf.nn.conv2d(x_tensor, weight, strides, padding)\n",
    "    #bias\n",
    "    conv2d = tf.nn.bias_add(conv2d, bias)\n",
    "    # relu\n",
    "    conv2d = tf.nn.relu(conv2d)\n",
    "    \n",
    "    # Set the ksize (filter size) for each dimension (batch_size, height, width, depth)\n",
    "    ksize = [1, pool_ksize[0], pool_ksize[1], 1]\n",
    "    # Set the stride for each dimension (batch_size, height, width, depth)\n",
    "    strides = [1, pool_strides[0], pool_strides[1], 1]\n",
    "    padding = \"SAME\"\n",
    "    # https://www.tensorflow.org/versions/r0.11/api_docs/python/nn.html#max_pool\n",
    "    max_pool = tf.nn.max_pool(conv2d, ksize, strides, padding)\n",
    "    return max_pool\n",
    "\n",
    "\n",
    "\"\"\"\n",
    "DON'T MODIFY ANYTHING IN THIS CELL THAT IS BELOW THIS LINE\n",
    "\"\"\"\n",
    "tests.test_con_pool(conv2d_maxpool)"
   ]
  },
  {
   "cell_type": "markdown",
   "metadata": {},
   "source": [
    "### Flatten Layer\n",
    "Implement the `flatten` function to change the dimension of `x_tensor` from a 4-D tensor to a 2-D tensor.  The output should be the shape (*Batch Size*, *Flattened Image Size*). Shortcut option: you can use classes from the [TensorFlow Layers](https://www.tensorflow.org/api_docs/python/tf/layers) or [TensorFlow Layers (contrib)](https://www.tensorflow.org/api_guides/python/contrib.layers) packages for this layer. For more of a challenge, only use other TensorFlow packages."
   ]
  },
  {
   "cell_type": "code",
   "execution_count": 9,
   "metadata": {},
   "outputs": [
    {
     "name": "stdout",
     "output_type": "stream",
     "text": [
      "Tests Passed\n"
     ]
    }
   ],
   "source": [
    "def flatten(x_tensor):\n",
    "    \"\"\"\n",
    "    Flatten x_tensor to (Batch Size, Flattened Image Size)\n",
    "    : x_tensor: A tensor of size (Batch Size, ...), where ... are the image dimensions.\n",
    "    : return: A tensor of size (Batch Size, Flattened Image Size).\n",
    "    \"\"\"\n",
    "    \n",
    "    shape = x_tensor.get_shape().as_list()\n",
    "    image_size = shape[1] * shape[2] * shape[3]\n",
    "    flatten = tf.reshape(x_tensor, [-1, image_size])\n",
    "    return flatten\n",
    "\n",
    "\"\"\"\n",
    "DON'T MODIFY ANYTHING IN THIS CELL THAT IS BELOW THIS LINE\n",
    "\"\"\"\n",
    "tests.test_flatten(flatten)"
   ]
  },
  {
   "cell_type": "markdown",
   "metadata": {},
   "source": [
    "### Fully-Connected Layer\n",
    "Implement the `fully_conn` function to apply a fully connected layer to `x_tensor` with the shape (*Batch Size*, *num_outputs*). Shortcut option: you can use classes from the [TensorFlow Layers](https://www.tensorflow.org/api_docs/python/tf/layers) or [TensorFlow Layers (contrib)](https://www.tensorflow.org/api_guides/python/contrib.layers) packages for this layer. For more of a challenge, only use other TensorFlow packages."
   ]
  },
  {
   "cell_type": "code",
   "execution_count": 10,
   "metadata": {},
   "outputs": [
    {
     "name": "stdout",
     "output_type": "stream",
     "text": [
      "Tests Passed\n"
     ]
    }
   ],
   "source": [
    "def fully_conn(x_tensor, num_outputs):\n",
    "    \"\"\"\n",
    "    Apply a fully connected layer to x_tensor using weight and bias\n",
    "    : x_tensor: A 2-D tensor where the first dimension is batch size.\n",
    "    : num_outputs: The number of output that the new tensor should be.\n",
    "    : return: A 2-D tensor where the second dimension is num_outputs.\n",
    "    \"\"\"\n",
    "    \n",
    "    layer = tf.contrib.layers.fully_connected(x_tensor, num_outputs, activation_fn=tf.nn.relu)\n",
    "    return layer\n",
    "\n",
    "\n",
    "\"\"\"\n",
    "DON'T MODIFY ANYTHING IN THIS CELL THAT IS BELOW THIS LINE\n",
    "\"\"\"\n",
    "tests.test_fully_conn(fully_conn)"
   ]
  },
  {
   "cell_type": "markdown",
   "metadata": {},
   "source": [
    "### Output Layer\n",
    "Implement the `output` function to apply a fully connected layer to `x_tensor` with the shape (*Batch Size*, *num_outputs*). Shortcut option: you can use classes from the [TensorFlow Layers](https://www.tensorflow.org/api_docs/python/tf/layers) or [TensorFlow Layers (contrib)](https://www.tensorflow.org/api_guides/python/contrib.layers) packages for this layer. For more of a challenge, only use other TensorFlow packages.\n",
    "\n",
    "**Note:** Activation, softmax, or cross entropy should **not** be applied to this."
   ]
  },
  {
   "cell_type": "code",
   "execution_count": 11,
   "metadata": {},
   "outputs": [
    {
     "name": "stdout",
     "output_type": "stream",
     "text": [
      "Tests Passed\n"
     ]
    }
   ],
   "source": [
    "def output(x_tensor, num_outputs):\n",
    "    \"\"\"\n",
    "    Apply a output layer to x_tensor using weight and bias\n",
    "    : x_tensor: A 2-D tensor where the first dimension is batch size.\n",
    "    : num_outputs: The number of output that the new tensor should be.\n",
    "    : return: A 2-D tensor where the second dimension is num_outputs.\n",
    "    \"\"\"\n",
    "    \n",
    "    output = tf.contrib.layers.fully_connected(x_tensor, num_outputs, activation_fn=None)\n",
    "    return output\n",
    "\n",
    "\n",
    "\"\"\"\n",
    "DON'T MODIFY ANYTHING IN THIS CELL THAT IS BELOW THIS LINE\n",
    "\"\"\"\n",
    "tests.test_output(output)"
   ]
  },
  {
   "cell_type": "markdown",
   "metadata": {},
   "source": [
    "### Create Convolutional Model\n",
    "Implement the function `conv_net` to create a convolutional neural network model. The function takes in a batch of images, `x`, and outputs logits.  Use the layers you created above to create this model:\n",
    "\n",
    "* Apply 1, 2, or 3 Convolution and Max Pool layers\n",
    "* Apply a Flatten Layer\n",
    "* Apply 1, 2, or 3 Fully Connected Layers\n",
    "* Apply an Output Layer\n",
    "* Return the output\n",
    "* Apply [TensorFlow's Dropout](https://www.tensorflow.org/api_docs/python/tf/nn/dropout) to one or more layers in the model using `keep_prob`. "
   ]
  },
  {
   "cell_type": "code",
   "execution_count": 12,
   "metadata": {},
   "outputs": [
    {
     "name": "stdout",
     "output_type": "stream",
     "text": [
      "Neural Network Built!\n"
     ]
    }
   ],
   "source": [
    "def conv_net(x, keep_prob):\n",
    "    \"\"\"\n",
    "    Create a convolutional neural network model\n",
    "    : x: Placeholder tensor that holds image data.\n",
    "    : keep_prob: Placeholder tensor that hold dropout keep probability.\n",
    "    : return: Tensor that represents logits\n",
    "    \"\"\"\n",
    "    # Apply 1, 2, or 3 Convolution and Max Pool layers\n",
    "    #    Play around with different number of outputs, kernel size and stride\n",
    "    # Function Definition from Above:\n",
    "    #    conv2d_maxpool(x_tensor, conv_num_outputs, conv_ksize, conv_strides, pool_ksize, pool_strides)\n",
    "    \n",
    "    # init\n",
    "    conv_net = conv2d_maxpool(x, 16, (2,2), (1,1), (2,2), (2,2))\n",
    "    conv_net = conv2d_maxpool(conv_net, 32, (2,2), (1,1), (2,2), (2,2))\n",
    "    conv_net = conv2d_maxpool(conv_net, 64, (2,2), (1,1), (2,2), (2,2))\n",
    "\n",
    "    # Apply a Flatten Layer\n",
    "    # Function Definition from Above:\n",
    "    #   flatten(x_tensor)\n",
    "    conv_net = flatten(conv_net)\n",
    "    \n",
    "\n",
    "    # Apply 1, 2, or 3 Fully Connected Layers\n",
    "    #    Play around with different number of outputs\n",
    "    # Function Definition from Above:\n",
    "    #   fully_conn(x_tensor, num_outputs)\n",
    "    conv_net = fully_conn(conv_net, 512)\n",
    "    conv_net = tf.nn.dropout(conv_net, keep_prob)\n",
    "    conv_net = fully_conn(conv_net, 256)\n",
    "\n",
    "    # Apply an Output Layer\n",
    "    #    Set this to the number of classes\n",
    "    # Function Definition from Above:\n",
    "    #   output(x_tensor, num_outputs)\n",
    "    conv_net = output(conv_net, 10)\n",
    "    \n",
    "    \n",
    "    # return output\n",
    "    return conv_net\n",
    "\n",
    "\n",
    "\"\"\"\n",
    "DON'T MODIFY ANYTHING IN THIS CELL THAT IS BELOW THIS LINE\n",
    "\"\"\"\n",
    "\n",
    "##############################\n",
    "## Build the Neural Network ##\n",
    "##############################\n",
    "\n",
    "# Remove previous weights, bias, inputs, etc..\n",
    "tf.reset_default_graph()\n",
    "\n",
    "# Inputs\n",
    "x = neural_net_image_input((32, 32, 3))\n",
    "y = neural_net_label_input(10)\n",
    "keep_prob = neural_net_keep_prob_input()\n",
    "\n",
    "# Model\n",
    "logits = conv_net(x, keep_prob)\n",
    "\n",
    "# Name logits Tensor, so that is can be loaded from disk after training\n",
    "logits = tf.identity(logits, name='logits')\n",
    "\n",
    "# Loss and Optimizer\n",
    "cost = tf.reduce_mean(tf.nn.softmax_cross_entropy_with_logits(logits=logits, labels=y))\n",
    "optimizer = tf.train.AdamOptimizer().minimize(cost)\n",
    "\n",
    "# Accuracy\n",
    "correct_pred = tf.equal(tf.argmax(logits, 1), tf.argmax(y, 1))\n",
    "accuracy = tf.reduce_mean(tf.cast(correct_pred, tf.float32), name='accuracy')\n",
    "\n",
    "tests.test_conv_net(conv_net)"
   ]
  },
  {
   "cell_type": "markdown",
   "metadata": {},
   "source": [
    "## Train the Neural Network\n",
    "### Single Optimization\n",
    "Implement the function `train_neural_network` to do a single optimization.  The optimization should use `optimizer` to optimize in `session` with a `feed_dict` of the following:\n",
    "* `x` for image input\n",
    "* `y` for labels\n",
    "* `keep_prob` for keep probability for dropout\n",
    "\n",
    "This function will be called for each batch, so `tf.global_variables_initializer()` has already been called.\n",
    "\n",
    "Note: Nothing needs to be returned. This function is only optimizing the neural network."
   ]
  },
  {
   "cell_type": "code",
   "execution_count": 13,
   "metadata": {},
   "outputs": [
    {
     "name": "stdout",
     "output_type": "stream",
     "text": [
      "Tests Passed\n"
     ]
    }
   ],
   "source": [
    "def train_neural_network(session, optimizer, keep_probability, feature_batch, label_batch):\n",
    "    \"\"\"\n",
    "    Optimize the session on a batch of images and labels\n",
    "    : session: Current TensorFlow session\n",
    "    : optimizer: TensorFlow optimizer function\n",
    "    : keep_probability: keep probability\n",
    "    : feature_batch: Batch of Numpy image data\n",
    "    : label_batch: Batch of Numpy label data\n",
    "    \"\"\"\n",
    "    session.run(optimizer, feed_dict = {x:feature_batch, y:label_batch, keep_prob:keep_probability})\n",
    "    pass\n",
    "\n",
    "\n",
    "\"\"\"\n",
    "DON'T MODIFY ANYTHING IN THIS CELL THAT IS BELOW THIS LINE\n",
    "\"\"\"\n",
    "tests.test_train_nn(train_neural_network)"
   ]
  },
  {
   "cell_type": "markdown",
   "metadata": {},
   "source": [
    "### Show Stats\n",
    "Implement the function `print_stats` to print loss and validation accuracy.  Use the global variables `valid_features` and `valid_labels` to calculate validation accuracy.  Use a keep probability of `1.0` to calculate the loss and validation accuracy."
   ]
  },
  {
   "cell_type": "code",
   "execution_count": 14,
   "metadata": {
    "collapsed": true
   },
   "outputs": [],
   "source": [
    "def print_stats(session, feature_batch, label_batch, cost, accuracy):\n",
    "    \"\"\"\n",
    "    Print information about loss and validation accuracy\n",
    "    : session: Current TensorFlow session\n",
    "    : feature_batch: Batch of Numpy image data\n",
    "    : label_batch: Batch of Numpy label data\n",
    "    : cost: TensorFlow cost function\n",
    "    : accuracy: TensorFlow accuracy function\n",
    "    \"\"\"\n",
    "    loss = session.run(cost, feed_dict = {x: feature_batch, y: label_batch, keep_prob: 1.0})\n",
    "    valid_accuracy = session.run(accuracy, feed_dict = {x: valid_features, y: valid_labels, keep_prob: 1.0}) \n",
    "    \n",
    "    print('loss: {}, valid_accuracy: {}'.format(loss, valid_accuracy))\n",
    "    pass"
   ]
  },
  {
   "cell_type": "markdown",
   "metadata": {},
   "source": [
    "### Hyperparameters\n",
    "Tune the following parameters:\n",
    "* Set `epochs` to the number of iterations until the network stops learning or start overfitting\n",
    "* Set `batch_size` to the highest number that your machine has memory for.  Most people set them to common sizes of memory:\n",
    " * 64\n",
    " * 128\n",
    " * 256\n",
    " * ...\n",
    "* Set `keep_probability` to the probability of keeping a node using dropout"
   ]
  },
  {
   "cell_type": "code",
   "execution_count": 15,
   "metadata": {
    "collapsed": true
   },
   "outputs": [],
   "source": [
    "# Tune Parameters\n",
    "epochs = 32\n",
    "batch_size = 256 # the more batch_size is set, the slower the model learns.\n",
    "keep_probability = 0.5"
   ]
  },
  {
   "cell_type": "markdown",
   "metadata": {},
   "source": [
    "### Train on a Single CIFAR-10 Batch\n",
    "Instead of training the neural network on all the CIFAR-10 batches of data, let's use a single batch. This should save time while you iterate on the model to get a better accuracy.  Once the final validation accuracy is 50% or greater, run the model on all the data in the next section."
   ]
  },
  {
   "cell_type": "code",
   "execution_count": 16,
   "metadata": {},
   "outputs": [
    {
     "name": "stdout",
     "output_type": "stream",
     "text": [
      "Checking the Training on a Single Batch...\n",
      "Epoch  1, CIFAR-10 Batch 1:  loss: 2.1403000354766846, valid_accuracy: 0.29580000042915344\n",
      "Epoch  2, CIFAR-10 Batch 1:  loss: 1.9611942768096924, valid_accuracy: 0.35519999265670776\n",
      "Epoch  3, CIFAR-10 Batch 1:  loss: 1.7993148565292358, valid_accuracy: 0.41940000653266907\n",
      "Epoch  4, CIFAR-10 Batch 1:  loss: 1.7019484043121338, valid_accuracy: 0.4438000023365021\n",
      "Epoch  5, CIFAR-10 Batch 1:  loss: 1.5966514348983765, valid_accuracy: 0.45980000495910645\n",
      "Epoch  6, CIFAR-10 Batch 1:  loss: 1.4635089635849, valid_accuracy: 0.4772000014781952\n",
      "Epoch  7, CIFAR-10 Batch 1:  loss: 1.3541098833084106, valid_accuracy: 0.4875999987125397\n",
      "Epoch  8, CIFAR-10 Batch 1:  loss: 1.2551862001419067, valid_accuracy: 0.5090000033378601\n",
      "Epoch  9, CIFAR-10 Batch 1:  loss: 1.1551367044448853, valid_accuracy: 0.510200023651123\n",
      "Epoch 10, CIFAR-10 Batch 1:  loss: 1.0116170644760132, valid_accuracy: 0.5324000120162964\n",
      "Epoch 11, CIFAR-10 Batch 1:  loss: 0.9415335655212402, valid_accuracy: 0.5321999788284302\n",
      "Epoch 12, CIFAR-10 Batch 1:  loss: 0.8389870524406433, valid_accuracy: 0.5547999739646912\n",
      "Epoch 13, CIFAR-10 Batch 1:  loss: 0.7454051971435547, valid_accuracy: 0.5598000288009644\n",
      "Epoch 14, CIFAR-10 Batch 1:  loss: 0.6860635280609131, valid_accuracy: 0.5546000003814697\n",
      "Epoch 15, CIFAR-10 Batch 1:  loss: 0.6338244080543518, valid_accuracy: 0.5740000009536743\n",
      "Epoch 16, CIFAR-10 Batch 1:  loss: 0.5784857869148254, valid_accuracy: 0.5663999915122986\n",
      "Epoch 17, CIFAR-10 Batch 1:  loss: 0.5554847717285156, valid_accuracy: 0.5649999976158142\n",
      "Epoch 18, CIFAR-10 Batch 1:  loss: 0.5054774284362793, valid_accuracy: 0.5654000043869019\n",
      "Epoch 19, CIFAR-10 Batch 1:  loss: 0.46429285407066345, valid_accuracy: 0.5866000056266785\n",
      "Epoch 20, CIFAR-10 Batch 1:  loss: 0.38838905096054077, valid_accuracy: 0.603600025177002\n",
      "Epoch 21, CIFAR-10 Batch 1:  loss: 0.3752744793891907, valid_accuracy: 0.5803999900817871\n",
      "Epoch 22, CIFAR-10 Batch 1:  loss: 0.3306587040424347, valid_accuracy: 0.5960000157356262\n",
      "Epoch 23, CIFAR-10 Batch 1:  loss: 0.3043050169944763, valid_accuracy: 0.5979999899864197\n",
      "Epoch 24, CIFAR-10 Batch 1:  loss: 0.2733646333217621, valid_accuracy: 0.5942000150680542\n",
      "Epoch 25, CIFAR-10 Batch 1:  loss: 0.2320951521396637, valid_accuracy: 0.5974000096321106\n",
      "Epoch 26, CIFAR-10 Batch 1:  loss: 0.24675512313842773, valid_accuracy: 0.5861999988555908\n",
      "Epoch 27, CIFAR-10 Batch 1:  loss: 0.19218099117279053, valid_accuracy: 0.5983999967575073\n",
      "Epoch 28, CIFAR-10 Batch 1:  loss: 0.16020357608795166, valid_accuracy: 0.6092000007629395\n",
      "Epoch 29, CIFAR-10 Batch 1:  loss: 0.15530478954315186, valid_accuracy: 0.5914000272750854\n",
      "Epoch 30, CIFAR-10 Batch 1:  loss: 0.13550175726413727, valid_accuracy: 0.6060000061988831\n",
      "Epoch 31, CIFAR-10 Batch 1:  loss: 0.11170294135808945, valid_accuracy: 0.605400025844574\n",
      "Epoch 32, CIFAR-10 Batch 1:  loss: 0.12888844311237335, valid_accuracy: 0.5874000191688538\n"
     ]
    }
   ],
   "source": [
    "\"\"\"\n",
    "DON'T MODIFY ANYTHING IN THIS CELL\n",
    "\"\"\"\n",
    "print('Checking the Training on a Single Batch...')\n",
    "with tf.Session() as sess:\n",
    "    # Initializing the variables\n",
    "    sess.run(tf.global_variables_initializer())\n",
    "    \n",
    "    # Training cycle\n",
    "    for epoch in range(epochs):\n",
    "        batch_i = 1\n",
    "        for batch_features, batch_labels in helper.load_preprocess_training_batch(batch_i, batch_size):\n",
    "            train_neural_network(sess, optimizer, keep_probability, batch_features, batch_labels)\n",
    "        print('Epoch {:>2}, CIFAR-10 Batch {}:  '.format(epoch + 1, batch_i), end='')\n",
    "        print_stats(sess, batch_features, batch_labels, cost, accuracy)"
   ]
  },
  {
   "cell_type": "markdown",
   "metadata": {},
   "source": [
    "### Fully Train the Model\n",
    "Now that you got a good accuracy with a single CIFAR-10 batch, try it with all five batches."
   ]
  },
  {
   "cell_type": "code",
   "execution_count": 17,
   "metadata": {},
   "outputs": [
    {
     "name": "stdout",
     "output_type": "stream",
     "text": [
      "Training...\n",
      "Epoch  1, CIFAR-10 Batch 1:  loss: 2.12734055519104, valid_accuracy: 0.2590000033378601\n",
      "Epoch  1, CIFAR-10 Batch 2:  loss: 1.746638536453247, valid_accuracy: 0.37880000472068787\n",
      "Epoch  1, CIFAR-10 Batch 3:  loss: 1.4161880016326904, valid_accuracy: 0.42179998755455017\n",
      "Epoch  1, CIFAR-10 Batch 4:  loss: 1.572466254234314, valid_accuracy: 0.4607999920845032\n",
      "Epoch  1, CIFAR-10 Batch 5:  loss: 1.5719605684280396, valid_accuracy: 0.45739999413490295\n",
      "Epoch  2, CIFAR-10 Batch 1:  loss: 1.6128677129745483, valid_accuracy: 0.5040000081062317\n",
      "Epoch  2, CIFAR-10 Batch 2:  loss: 1.4087129831314087, valid_accuracy: 0.5126000046730042\n",
      "Epoch  2, CIFAR-10 Batch 3:  loss: 1.0689325332641602, valid_accuracy: 0.4722000062465668\n",
      "Epoch  2, CIFAR-10 Batch 4:  loss: 1.2497280836105347, valid_accuracy: 0.5397999882698059\n",
      "Epoch  2, CIFAR-10 Batch 5:  loss: 1.2324868440628052, valid_accuracy: 0.5482000112533569\n",
      "Epoch  3, CIFAR-10 Batch 1:  loss: 1.3118938207626343, valid_accuracy: 0.5631999969482422\n",
      "Epoch  3, CIFAR-10 Batch 2:  loss: 1.1634323596954346, valid_accuracy: 0.5654000043869019\n",
      "Epoch  3, CIFAR-10 Batch 3:  loss: 0.8539532423019409, valid_accuracy: 0.5460000038146973\n",
      "Epoch  3, CIFAR-10 Batch 4:  loss: 1.0709861516952515, valid_accuracy: 0.5672000050544739\n",
      "Epoch  3, CIFAR-10 Batch 5:  loss: 1.0314102172851562, valid_accuracy: 0.5893999934196472\n",
      "Epoch  4, CIFAR-10 Batch 1:  loss: 1.072772741317749, valid_accuracy: 0.6011999845504761\n",
      "Epoch  4, CIFAR-10 Batch 2:  loss: 0.9734407663345337, valid_accuracy: 0.605400025844574\n",
      "Epoch  4, CIFAR-10 Batch 3:  loss: 0.743922233581543, valid_accuracy: 0.5809999704360962\n",
      "Epoch  4, CIFAR-10 Batch 4:  loss: 0.9116056561470032, valid_accuracy: 0.6047999858856201\n",
      "Epoch  4, CIFAR-10 Batch 5:  loss: 0.8561103940010071, valid_accuracy: 0.6164000034332275\n",
      "Epoch  5, CIFAR-10 Batch 1:  loss: 0.9515966176986694, valid_accuracy: 0.6187999844551086\n",
      "Epoch  5, CIFAR-10 Batch 2:  loss: 0.7888106107711792, valid_accuracy: 0.616599977016449\n",
      "Epoch  5, CIFAR-10 Batch 3:  loss: 0.5942994356155396, valid_accuracy: 0.6236000061035156\n",
      "Epoch  5, CIFAR-10 Batch 4:  loss: 0.7793232202529907, valid_accuracy: 0.6294000148773193\n",
      "Epoch  5, CIFAR-10 Batch 5:  loss: 0.7261552810668945, valid_accuracy: 0.6295999884605408\n",
      "Epoch  6, CIFAR-10 Batch 1:  loss: 0.853630542755127, valid_accuracy: 0.6338000297546387\n",
      "Epoch  6, CIFAR-10 Batch 2:  loss: 0.6441810727119446, valid_accuracy: 0.6389999985694885\n",
      "Epoch  6, CIFAR-10 Batch 3:  loss: 0.49293261766433716, valid_accuracy: 0.6348000168800354\n",
      "Epoch  6, CIFAR-10 Batch 4:  loss: 0.6508101224899292, valid_accuracy: 0.6516000032424927\n",
      "Epoch  6, CIFAR-10 Batch 5:  loss: 0.5742543935775757, valid_accuracy: 0.6489999890327454\n",
      "Epoch  7, CIFAR-10 Batch 1:  loss: 0.7517081499099731, valid_accuracy: 0.6556000113487244\n",
      "Epoch  7, CIFAR-10 Batch 2:  loss: 0.558181643486023, valid_accuracy: 0.6528000235557556\n",
      "Epoch  7, CIFAR-10 Batch 3:  loss: 0.40640297532081604, valid_accuracy: 0.6489999890327454\n",
      "Epoch  7, CIFAR-10 Batch 4:  loss: 0.5848944187164307, valid_accuracy: 0.6556000113487244\n",
      "Epoch  7, CIFAR-10 Batch 5:  loss: 0.49424442648887634, valid_accuracy: 0.6528000235557556\n",
      "Epoch  8, CIFAR-10 Batch 1:  loss: 0.6827360391616821, valid_accuracy: 0.6565999984741211\n",
      "Epoch  8, CIFAR-10 Batch 2:  loss: 0.46383482217788696, valid_accuracy: 0.6571999788284302\n",
      "Epoch  8, CIFAR-10 Batch 3:  loss: 0.36206549406051636, valid_accuracy: 0.6467999815940857\n",
      "Epoch  8, CIFAR-10 Batch 4:  loss: 0.502397894859314, valid_accuracy: 0.6610000133514404\n",
      "Epoch  8, CIFAR-10 Batch 5:  loss: 0.4451007843017578, valid_accuracy: 0.6661999821662903\n",
      "Epoch  9, CIFAR-10 Batch 1:  loss: 0.5657002329826355, valid_accuracy: 0.6656000018119812\n",
      "Epoch  9, CIFAR-10 Batch 2:  loss: 0.3556397557258606, valid_accuracy: 0.6696000099182129\n",
      "Epoch  9, CIFAR-10 Batch 3:  loss: 0.28133150935173035, valid_accuracy: 0.670799970626831\n",
      "Epoch  9, CIFAR-10 Batch 4:  loss: 0.4304220676422119, valid_accuracy: 0.6800000071525574\n",
      "Epoch  9, CIFAR-10 Batch 5:  loss: 0.3179352283477783, valid_accuracy: 0.6692000031471252\n",
      "Epoch 10, CIFAR-10 Batch 1:  loss: 0.49548688530921936, valid_accuracy: 0.6772000193595886\n",
      "Epoch 10, CIFAR-10 Batch 2:  loss: 0.3164829611778259, valid_accuracy: 0.6787999868392944\n",
      "Epoch 10, CIFAR-10 Batch 3:  loss: 0.2513093054294586, valid_accuracy: 0.6733999848365784\n",
      "Epoch 10, CIFAR-10 Batch 4:  loss: 0.4186944365501404, valid_accuracy: 0.6773999929428101\n",
      "Epoch 10, CIFAR-10 Batch 5:  loss: 0.2806609869003296, valid_accuracy: 0.6761999726295471\n",
      "Epoch 11, CIFAR-10 Batch 1:  loss: 0.45393696427345276, valid_accuracy: 0.6833999752998352\n",
      "Epoch 11, CIFAR-10 Batch 2:  loss: 0.25069087743759155, valid_accuracy: 0.682200014591217\n",
      "Epoch 11, CIFAR-10 Batch 3:  loss: 0.2195856273174286, valid_accuracy: 0.6866000294685364\n",
      "Epoch 11, CIFAR-10 Batch 4:  loss: 0.3197488784790039, valid_accuracy: 0.6862000226974487\n",
      "Epoch 11, CIFAR-10 Batch 5:  loss: 0.23511949181556702, valid_accuracy: 0.6837999820709229\n",
      "Epoch 12, CIFAR-10 Batch 1:  loss: 0.37931689620018005, valid_accuracy: 0.6934000253677368\n",
      "Epoch 12, CIFAR-10 Batch 2:  loss: 0.2199431210756302, valid_accuracy: 0.6869999766349792\n",
      "Epoch 12, CIFAR-10 Batch 3:  loss: 0.19928620755672455, valid_accuracy: 0.6905999779701233\n",
      "Epoch 12, CIFAR-10 Batch 4:  loss: 0.2825806736946106, valid_accuracy: 0.6899999976158142\n",
      "Epoch 12, CIFAR-10 Batch 5:  loss: 0.21634618937969208, valid_accuracy: 0.6980000138282776\n",
      "Epoch 13, CIFAR-10 Batch 1:  loss: 0.31076470017433167, valid_accuracy: 0.6977999806404114\n",
      "Epoch 13, CIFAR-10 Batch 2:  loss: 0.20025178790092468, valid_accuracy: 0.6913999915122986\n",
      "Epoch 13, CIFAR-10 Batch 3:  loss: 0.17879530787467957, valid_accuracy: 0.6966000199317932\n",
      "Epoch 13, CIFAR-10 Batch 4:  loss: 0.21123914420604706, valid_accuracy: 0.6980000138282776\n",
      "Epoch 13, CIFAR-10 Batch 5:  loss: 0.17558720707893372, valid_accuracy: 0.6941999793052673\n",
      "Epoch 14, CIFAR-10 Batch 1:  loss: 0.3035353720188141, valid_accuracy: 0.6905999779701233\n",
      "Epoch 14, CIFAR-10 Batch 2:  loss: 0.19117574393749237, valid_accuracy: 0.6912000179290771\n",
      "Epoch 14, CIFAR-10 Batch 3:  loss: 0.16991785168647766, valid_accuracy: 0.6940000057220459\n",
      "Epoch 14, CIFAR-10 Batch 4:  loss: 0.19494366645812988, valid_accuracy: 0.6991999745368958\n",
      "Epoch 14, CIFAR-10 Batch 5:  loss: 0.16015881299972534, valid_accuracy: 0.7044000029563904\n",
      "Epoch 15, CIFAR-10 Batch 1:  loss: 0.2311086654663086, valid_accuracy: 0.6991999745368958\n",
      "Epoch 15, CIFAR-10 Batch 2:  loss: 0.17268571257591248, valid_accuracy: 0.701200008392334\n",
      "Epoch 15, CIFAR-10 Batch 3:  loss: 0.13572318851947784, valid_accuracy: 0.6934000253677368\n",
      "Epoch 15, CIFAR-10 Batch 4:  loss: 0.15150681138038635, valid_accuracy: 0.7088000178337097\n",
      "Epoch 15, CIFAR-10 Batch 5:  loss: 0.1521848738193512, valid_accuracy: 0.6995999813079834\n",
      "Epoch 16, CIFAR-10 Batch 1:  loss: 0.18889303505420685, valid_accuracy: 0.7044000029563904\n",
      "Epoch 16, CIFAR-10 Batch 2:  loss: 0.15376582741737366, valid_accuracy: 0.7008000016212463\n",
      "Epoch 16, CIFAR-10 Batch 3:  loss: 0.13616719841957092, valid_accuracy: 0.6913999915122986\n",
      "Epoch 16, CIFAR-10 Batch 4:  loss: 0.13710176944732666, valid_accuracy: 0.7024000287055969\n",
      "Epoch 16, CIFAR-10 Batch 5:  loss: 0.09701162576675415, valid_accuracy: 0.7117999792098999\n",
      "Epoch 17, CIFAR-10 Batch 1:  loss: 0.1682334989309311, valid_accuracy: 0.7102000117301941\n",
      "Epoch 17, CIFAR-10 Batch 2:  loss: 0.11795604228973389, valid_accuracy: 0.7085999846458435\n",
      "Epoch 17, CIFAR-10 Batch 3:  loss: 0.09512084722518921, valid_accuracy: 0.699999988079071\n",
      "Epoch 17, CIFAR-10 Batch 4:  loss: 0.13620007038116455, valid_accuracy: 0.7038000226020813\n",
      "Epoch 17, CIFAR-10 Batch 5:  loss: 0.08873683959245682, valid_accuracy: 0.7074000239372253\n",
      "Epoch 18, CIFAR-10 Batch 1:  loss: 0.15858830511569977, valid_accuracy: 0.704200029373169\n",
      "Epoch 18, CIFAR-10 Batch 2:  loss: 0.10354211181402206, valid_accuracy: 0.7084000110626221\n",
      "Epoch 18, CIFAR-10 Batch 3:  loss: 0.09860362112522125, valid_accuracy: 0.7006000280380249\n",
      "Epoch 18, CIFAR-10 Batch 4:  loss: 0.09410262107849121, valid_accuracy: 0.7164000272750854\n",
      "Epoch 18, CIFAR-10 Batch 5:  loss: 0.07504602521657944, valid_accuracy: 0.7052000164985657\n"
     ]
    },
    {
     "name": "stdout",
     "output_type": "stream",
     "text": [
      "Epoch 19, CIFAR-10 Batch 1:  loss: 0.12645018100738525, valid_accuracy: 0.7113999724388123\n",
      "Epoch 19, CIFAR-10 Batch 2:  loss: 0.10845126956701279, valid_accuracy: 0.7095999717712402\n",
      "Epoch 19, CIFAR-10 Batch 3:  loss: 0.07651568949222565, valid_accuracy: 0.7056000232696533\n",
      "Epoch 19, CIFAR-10 Batch 4:  loss: 0.09674980491399765, valid_accuracy: 0.7071999907493591\n",
      "Epoch 19, CIFAR-10 Batch 5:  loss: 0.06256623566150665, valid_accuracy: 0.7088000178337097\n",
      "Epoch 20, CIFAR-10 Batch 1:  loss: 0.10886534303426743, valid_accuracy: 0.7128000259399414\n",
      "Epoch 20, CIFAR-10 Batch 2:  loss: 0.0768277496099472, valid_accuracy: 0.6985999941825867\n",
      "Epoch 20, CIFAR-10 Batch 3:  loss: 0.08811920881271362, valid_accuracy: 0.6995999813079834\n",
      "Epoch 20, CIFAR-10 Batch 4:  loss: 0.08314993977546692, valid_accuracy: 0.7124000191688538\n",
      "Epoch 20, CIFAR-10 Batch 5:  loss: 0.06471796333789825, valid_accuracy: 0.699999988079071\n",
      "Epoch 21, CIFAR-10 Batch 1:  loss: 0.10115773975849152, valid_accuracy: 0.7111999988555908\n",
      "Epoch 21, CIFAR-10 Batch 2:  loss: 0.07387220859527588, valid_accuracy: 0.7089999914169312\n",
      "Epoch 21, CIFAR-10 Batch 3:  loss: 0.05700024217367172, valid_accuracy: 0.7074000239372253\n",
      "Epoch 21, CIFAR-10 Batch 4:  loss: 0.0658201202750206, valid_accuracy: 0.717199981212616\n",
      "Epoch 21, CIFAR-10 Batch 5:  loss: 0.05035638064146042, valid_accuracy: 0.7056000232696533\n",
      "Epoch 22, CIFAR-10 Batch 1:  loss: 0.07839196920394897, valid_accuracy: 0.718999981880188\n",
      "Epoch 22, CIFAR-10 Batch 2:  loss: 0.05711842700839043, valid_accuracy: 0.7035999894142151\n",
      "Epoch 22, CIFAR-10 Batch 3:  loss: 0.06780551373958588, valid_accuracy: 0.704800009727478\n",
      "Epoch 22, CIFAR-10 Batch 4:  loss: 0.059228550642728806, valid_accuracy: 0.7081999778747559\n",
      "Epoch 22, CIFAR-10 Batch 5:  loss: 0.054548751562833786, valid_accuracy: 0.7034000158309937\n",
      "Epoch 23, CIFAR-10 Batch 1:  loss: 0.0700971707701683, valid_accuracy: 0.7188000082969666\n",
      "Epoch 23, CIFAR-10 Batch 2:  loss: 0.05676217004656792, valid_accuracy: 0.7021999955177307\n",
      "Epoch 23, CIFAR-10 Batch 3:  loss: 0.06289774179458618, valid_accuracy: 0.70660001039505\n",
      "Epoch 23, CIFAR-10 Batch 4:  loss: 0.06876806169748306, valid_accuracy: 0.7088000178337097\n",
      "Epoch 23, CIFAR-10 Batch 5:  loss: 0.03830453008413315, valid_accuracy: 0.7128000259399414\n",
      "Epoch 24, CIFAR-10 Batch 1:  loss: 0.06224179267883301, valid_accuracy: 0.7170000076293945\n",
      "Epoch 24, CIFAR-10 Batch 2:  loss: 0.056153398007154465, valid_accuracy: 0.7099999785423279\n",
      "Epoch 24, CIFAR-10 Batch 3:  loss: 0.0490846186876297, valid_accuracy: 0.7088000178337097\n",
      "Epoch 24, CIFAR-10 Batch 4:  loss: 0.08596612513065338, valid_accuracy: 0.7128000259399414\n",
      "Epoch 24, CIFAR-10 Batch 5:  loss: 0.029996085911989212, valid_accuracy: 0.7156000137329102\n",
      "Epoch 25, CIFAR-10 Batch 1:  loss: 0.055892039090394974, valid_accuracy: 0.7103999853134155\n",
      "Epoch 25, CIFAR-10 Batch 2:  loss: 0.042021457105875015, valid_accuracy: 0.7182000279426575\n",
      "Epoch 25, CIFAR-10 Batch 3:  loss: 0.04256877303123474, valid_accuracy: 0.7120000123977661\n",
      "Epoch 25, CIFAR-10 Batch 4:  loss: 0.04408835247159004, valid_accuracy: 0.7106000185012817\n",
      "Epoch 25, CIFAR-10 Batch 5:  loss: 0.030802985653281212, valid_accuracy: 0.7125999927520752\n",
      "Epoch 26, CIFAR-10 Batch 1:  loss: 0.0410686694085598, valid_accuracy: 0.7116000056266785\n",
      "Epoch 26, CIFAR-10 Batch 2:  loss: 0.04382193833589554, valid_accuracy: 0.7161999940872192\n",
      "Epoch 26, CIFAR-10 Batch 3:  loss: 0.03661523386836052, valid_accuracy: 0.7106000185012817\n",
      "Epoch 26, CIFAR-10 Batch 4:  loss: 0.03396366909146309, valid_accuracy: 0.7185999751091003\n",
      "Epoch 26, CIFAR-10 Batch 5:  loss: 0.02695467695593834, valid_accuracy: 0.7129999995231628\n",
      "Epoch 27, CIFAR-10 Batch 1:  loss: 0.07091421633958817, valid_accuracy: 0.6970000267028809\n",
      "Epoch 27, CIFAR-10 Batch 2:  loss: 0.04502211511135101, valid_accuracy: 0.7044000029563904\n",
      "Epoch 27, CIFAR-10 Batch 3:  loss: 0.04411866515874863, valid_accuracy: 0.7178000211715698\n",
      "Epoch 27, CIFAR-10 Batch 4:  loss: 0.03141757845878601, valid_accuracy: 0.7077999711036682\n",
      "Epoch 27, CIFAR-10 Batch 5:  loss: 0.015919825062155724, valid_accuracy: 0.718999981880188\n",
      "Epoch 28, CIFAR-10 Batch 1:  loss: 0.04319455474615097, valid_accuracy: 0.7024000287055969\n",
      "Epoch 28, CIFAR-10 Batch 2:  loss: 0.024755682796239853, valid_accuracy: 0.7110000252723694\n",
      "Epoch 28, CIFAR-10 Batch 3:  loss: 0.03702842444181442, valid_accuracy: 0.7106000185012817\n",
      "Epoch 28, CIFAR-10 Batch 4:  loss: 0.030388647690415382, valid_accuracy: 0.7179999947547913\n",
      "Epoch 28, CIFAR-10 Batch 5:  loss: 0.016077933833003044, valid_accuracy: 0.722000002861023\n",
      "Epoch 29, CIFAR-10 Batch 1:  loss: 0.03438066691160202, valid_accuracy: 0.7081999778747559\n",
      "Epoch 29, CIFAR-10 Batch 2:  loss: 0.03362660855054855, valid_accuracy: 0.7102000117301941\n",
      "Epoch 29, CIFAR-10 Batch 3:  loss: 0.027350833639502525, valid_accuracy: 0.7242000102996826\n",
      "Epoch 29, CIFAR-10 Batch 4:  loss: 0.023592565208673477, valid_accuracy: 0.7149999737739563\n",
      "Epoch 29, CIFAR-10 Batch 5:  loss: 0.022004196420311928, valid_accuracy: 0.7093999981880188\n",
      "Epoch 30, CIFAR-10 Batch 1:  loss: 0.05006267502903938, valid_accuracy: 0.7106000185012817\n",
      "Epoch 30, CIFAR-10 Batch 2:  loss: 0.028046157211065292, valid_accuracy: 0.6976000070571899\n",
      "Epoch 30, CIFAR-10 Batch 3:  loss: 0.02526232600212097, valid_accuracy: 0.7111999988555908\n",
      "Epoch 30, CIFAR-10 Batch 4:  loss: 0.017508452758193016, valid_accuracy: 0.7188000082969666\n",
      "Epoch 30, CIFAR-10 Batch 5:  loss: 0.012882208451628685, valid_accuracy: 0.7106000185012817\n",
      "Epoch 31, CIFAR-10 Batch 1:  loss: 0.035881202667951584, valid_accuracy: 0.7088000178337097\n",
      "Epoch 31, CIFAR-10 Batch 2:  loss: 0.021348033100366592, valid_accuracy: 0.7121999859809875\n",
      "Epoch 31, CIFAR-10 Batch 3:  loss: 0.01864837482571602, valid_accuracy: 0.7121999859809875\n",
      "Epoch 31, CIFAR-10 Batch 4:  loss: 0.016840282827615738, valid_accuracy: 0.7246000170707703\n",
      "Epoch 31, CIFAR-10 Batch 5:  loss: 0.013904559426009655, valid_accuracy: 0.7196000218391418\n",
      "Epoch 32, CIFAR-10 Batch 1:  loss: 0.022967219352722168, valid_accuracy: 0.7120000123977661\n",
      "Epoch 32, CIFAR-10 Batch 2:  loss: 0.019411347806453705, valid_accuracy: 0.6953999996185303\n",
      "Epoch 32, CIFAR-10 Batch 3:  loss: 0.015535658225417137, valid_accuracy: 0.7239999771118164\n",
      "Epoch 32, CIFAR-10 Batch 4:  loss: 0.012480895034968853, valid_accuracy: 0.7247999906539917\n",
      "Epoch 32, CIFAR-10 Batch 5:  loss: 0.009985042735934258, valid_accuracy: 0.7174000144004822\n"
     ]
    }
   ],
   "source": [
    "\"\"\"\n",
    "DON'T MODIFY ANYTHING IN THIS CELL\n",
    "\"\"\"\n",
    "save_model_path = './image_classification'\n",
    "\n",
    "print('Training...')\n",
    "with tf.Session() as sess:\n",
    "    # Initializing the variables\n",
    "    sess.run(tf.global_variables_initializer())\n",
    "    \n",
    "    # Training cycle\n",
    "    for epoch in range(epochs):\n",
    "        # Loop over all batches\n",
    "        n_batches = 5\n",
    "        for batch_i in range(1, n_batches + 1):\n",
    "            for batch_features, batch_labels in helper.load_preprocess_training_batch(batch_i, batch_size):\n",
    "                train_neural_network(sess, optimizer, keep_probability, batch_features, batch_labels)\n",
    "            print('Epoch {:>2}, CIFAR-10 Batch {}:  '.format(epoch + 1, batch_i), end='')\n",
    "            print_stats(sess, batch_features, batch_labels, cost, accuracy)\n",
    "            \n",
    "    # Save Model\n",
    "    saver = tf.train.Saver()\n",
    "    save_path = saver.save(sess, save_model_path)"
   ]
  },
  {
   "cell_type": "markdown",
   "metadata": {},
   "source": [
    "# Checkpoint\n",
    "The model has been saved to disk.\n",
    "## Test Model\n",
    "Test your model against the test dataset.  This will be your final accuracy. You should have an accuracy greater than 50%. If you don't, keep tweaking the model architecture and parameters."
   ]
  },
  {
   "cell_type": "code",
   "execution_count": 18,
   "metadata": {},
   "outputs": [
    {
     "name": "stdout",
     "output_type": "stream",
     "text": [
      "INFO:tensorflow:Restoring parameters from ./image_classification\n",
      "Testing Accuracy: 0.70771484375\n",
      "\n"
     ]
    },
    {
     "data": {
      "image/png": "[encoded data removed]",
      "text/plain": [
       "<matplotlib.figure.Figure at 0x24101082080>"
      ]
     },
     "metadata": {
      "image/png": {
       "height": 319,
       "width": 355
      }
     },
     "output_type": "display_data"
    }
   ],
   "source": [
    "\"\"\"\n",
    "DON'T MODIFY ANYTHING IN THIS CELL\n",
    "\"\"\"\n",
    "%matplotlib inline\n",
    "%config InlineBackend.figure_format = 'retina'\n",
    "\n",
    "import tensorflow as tf\n",
    "import pickle\n",
    "import helper\n",
    "import random\n",
    "\n",
    "# Set batch size if not already set\n",
    "try:\n",
    "    if batch_size:\n",
    "        pass\n",
    "except NameError:\n",
    "    batch_size = 64\n",
    "\n",
    "save_model_path = './image_classification'\n",
    "n_samples = 4\n",
    "top_n_predictions = 3\n",
    "\n",
    "def test_model():\n",
    "    \"\"\"\n",
    "    Test the saved model against the test dataset\n",
    "    \"\"\"\n",
    "\n",
    "    test_features, test_labels = pickle.load(open('preprocess_training.p', mode='rb'))\n",
    "    loaded_graph = tf.Graph()\n",
    "\n",
    "    with tf.Session(graph=loaded_graph) as sess:\n",
    "        # Load model\n",
    "        loader = tf.train.import_meta_graph(save_model_path + '.meta')\n",
    "        loader.restore(sess, save_model_path)\n",
    "\n",
    "        # Get Tensors from loaded model\n",
    "        loaded_x = loaded_graph.get_tensor_by_name('x:0')\n",
    "        loaded_y = loaded_graph.get_tensor_by_name('y:0')\n",
    "        loaded_keep_prob = loaded_graph.get_tensor_by_name('keep_prob:0')\n",
    "        loaded_logits = loaded_graph.get_tensor_by_name('logits:0')\n",
    "        loaded_acc = loaded_graph.get_tensor_by_name('accuracy:0')\n",
    "        \n",
    "        # Get accuracy in batches for memory limitations\n",
    "        test_batch_acc_total = 0\n",
    "        test_batch_count = 0\n",
    "        \n",
    "        for train_feature_batch, train_label_batch in helper.batch_features_labels(test_features, test_labels, batch_size):\n",
    "            test_batch_acc_total += sess.run(\n",
    "                loaded_acc,\n",
    "                feed_dict={loaded_x: train_feature_batch, loaded_y: train_label_batch, loaded_keep_prob: 1.0})\n",
    "            test_batch_count += 1\n",
    "\n",
    "        print('Testing Accuracy: {}\\n'.format(test_batch_acc_total/test_batch_count))\n",
    "\n",
    "        # Print Random Samples\n",
    "        random_test_features, random_test_labels = tuple(zip(*random.sample(list(zip(test_features, test_labels)), n_samples)))\n",
    "        random_test_predictions = sess.run(\n",
    "            tf.nn.top_k(tf.nn.softmax(loaded_logits), top_n_predictions),\n",
    "            feed_dict={loaded_x: random_test_features, loaded_y: random_test_labels, loaded_keep_prob: 1.0})\n",
    "        helper.display_image_predictions(random_test_features, random_test_labels, random_test_predictions)\n",
    "\n",
    "\n",
    "test_model()"
   ]
  },
  {
   "cell_type": "markdown",
   "metadata": {},
   "source": [
    "## Why 50-80% Accuracy?\n",
    "You might be wondering why you can't get an accuracy any higher. First things first, 50% isn't bad for a simple CNN.  Pure guessing would get you 10% accuracy. That's because there are many more techniques that can be applied to your model and we recemmond that once you are done with this project, you explore!\n",
    "\n",
    "## Submitting This Project\n",
    "When submitting this project, make sure to run all the cells before saving the notebook.  Save the notebook file as \"image_classification.ipynb\" and save it as a HTML file under \"File\" -> \"Download as\".  Include the \"helper.py\" and \"problem_unittests.py\" files in your submission."
   ]
  }
 ],
 "metadata": {
  "kernelspec": {
   "display_name": "Python 3",
   "language": "python",
   "name": "python3"
  },
  "language_info": {
   "codemirror_mode": {
    "name": "ipython",
    "version": 3
   },
   "file_extension": ".py",
   "mimetype": "text/x-python",
   "name": "python",
   "nbconvert_exporter": "python",
   "pygments_lexer": "ipython3",
   "version": "3.5.3"
  }
 },
 "nbformat": 4,
 "nbformat_minor": 1
}
