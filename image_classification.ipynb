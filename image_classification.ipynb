{
 "cells": [
  {
   "cell_type": "markdown",
   "metadata": {
    "collapsed": true
   },
   "source": [
    "# Image Classification\n",
    "In this project, you'll classify images from the [CIFAR-10 dataset](https://www.cs.toronto.edu/~kriz/cifar.html).  The dataset consists of airplanes, dogs, cats, and other objects. You'll preprocess the images, then train a convolutional neural network on all the samples. The images need to be normalized and the labels need to be one-hot encoded.  You'll get to apply what you learned and build a convolutional, max pooling, dropout, and fully connected layers.  At the end, you'll get to see your neural network's predictions on the sample images.\n",
    "## Get the Data\n",
    "Run the following cell to download the [CIFAR-10 dataset for python](https://www.cs.toronto.edu/~kriz/cifar-10-python.tar.gz)."
   ]
  },
  {
   "cell_type": "code",
   "execution_count": 1,
   "metadata": {},
   "outputs": [
    {
     "name": "stdout",
     "output_type": "stream",
     "text": [
      "All files found!\n"
     ]
    }
   ],
   "source": [
    "\"\"\"\n",
    "DON'T MODIFY ANYTHING IN THIS CELL THAT IS BELOW THIS LINE\n",
    "\"\"\"\n",
    "from urllib.request import urlretrieve\n",
    "from os.path import isfile, isdir\n",
    "from tqdm import tqdm\n",
    "import problem_unittests as tests\n",
    "import tarfile\n",
    "\n",
    "cifar10_dataset_folder_path = 'cifar-10-batches-py'\n",
    "\n",
    "class DLProgress(tqdm):\n",
    "    last_block = 0\n",
    "\n",
    "    def hook(self, block_num=1, block_size=1, total_size=None):\n",
    "        self.total = total_size\n",
    "        self.update((block_num - self.last_block) * block_size)\n",
    "        self.last_block = block_num\n",
    "\n",
    "if not isfile('cifar-10-python.tar.gz'):\n",
    "    with DLProgress(unit='B', unit_scale=True, miniters=1, desc='CIFAR-10 Dataset') as pbar:\n",
    "        urlretrieve(\n",
    "            'https://www.cs.toronto.edu/~kriz/cifar-10-python.tar.gz',\n",
    "            'cifar-10-python.tar.gz',\n",
    "            pbar.hook)\n",
    "\n",
    "if not isdir(cifar10_dataset_folder_path):\n",
    "    with tarfile.open('cifar-10-python.tar.gz') as tar:\n",
    "        tar.extractall()\n",
    "        tar.close()\n",
    "\n",
    "\n",
    "tests.test_folder_path(cifar10_dataset_folder_path)"
   ]
  },
  {
   "cell_type": "markdown",
   "metadata": {},
   "source": [
    "## Explore the Data\n",
    "The dataset is broken into batches to prevent your machine from running out of memory.  The CIFAR-10 dataset consists of 5 batches, named `data_batch_1`, `data_batch_2`, etc.. Each batch contains the labels and images that are one of the following:\n",
    "* airplane\n",
    "* automobile\n",
    "* bird\n",
    "* cat\n",
    "* deer\n",
    "* dog\n",
    "* frog\n",
    "* horse\n",
    "* ship\n",
    "* truck\n",
    "\n",
    "Understanding a dataset is part of making predictions on the data.  Play around with the code cell below by changing the `batch_id` and `sample_id`. The `batch_id` is the id for a batch (1-5). The `sample_id` is the id for a image and label pair in the batch.\n",
    "\n",
    "Ask yourself \"What are all possible labels?\", \"What is the range of values for the image data?\", \"Are the labels in order or random?\".  Answers to questions like these will help you preprocess the data and end up with better predictions."
   ]
  },
  {
   "cell_type": "code",
   "execution_count": 2,
   "metadata": {},
   "outputs": [
    {
     "name": "stdout",
     "output_type": "stream",
     "text": [
      "\n",
      "Stats of batch 1:\n",
      "Samples: 10000\n",
      "Label Counts: {0: 1005, 1: 974, 2: 1032, 3: 1016, 4: 999, 5: 937, 6: 1030, 7: 1001, 8: 1025, 9: 981}\n",
      "First 20 Labels: [6, 9, 9, 4, 1, 1, 2, 7, 8, 3, 4, 7, 7, 2, 9, 9, 9, 3, 2, 6]\n",
      "\n",
      "Example of Image 5:\n",
      "Image - Min Value: 0 Max Value: 252\n",
      "Image - Shape: (32, 32, 3)\n",
      "Label - Label Id: 1 Name: automobile\n"
     ]
    },
    {
     "data": {
      "image/png": "[encoded data removed]",
      "text/plain": [
       "<matplotlib.figure.Figure at 0x1e161facb38>"
      ]
     },
     "metadata": {
      "image/png": {
       "height": 250,
       "width": 253
      }
     },
     "output_type": "display_data"
    }
   ],
   "source": [
    "%matplotlib inline\n",
    "%config InlineBackend.figure_format = 'retina'\n",
    "\n",
    "import helper\n",
    "import numpy as np\n",
    "\n",
    "# Explore the dataset\n",
    "batch_id = 1\n",
    "sample_id = 5\n",
    "helper.display_stats(cifar10_dataset_folder_path, batch_id, sample_id)"
   ]
  },
  {
   "cell_type": "markdown",
   "metadata": {},
   "source": [
    "## Implement Preprocess Functions\n",
    "### Normalize\n",
    "In the cell below, implement the `normalize` function to take in image data, `x`, and return it as a normalized Numpy array. The values should be in the range of 0 to 1, inclusive.  The return object should be the same shape as `x`."
   ]
  },
  {
   "cell_type": "code",
   "execution_count": 3,
   "metadata": {
    "scrolled": false
   },
   "outputs": [
    {
     "name": "stdout",
     "output_type": "stream",
     "text": [
      "Tests Passed\n"
     ]
    }
   ],
   "source": [
    "def normalize(x):\n",
    "    \"\"\"\n",
    "    Normalize a list of sample image data in the range of 0 to 1\n",
    "    : x: List of image data.  The image shape is (32, 32, 3)\n",
    "    : return: Numpy array of normalize data\n",
    "    \"\"\"\n",
    "    \n",
    "    # Print x to observe x's range\n",
    "#     print(x)\n",
    "    \n",
    "    # Adjust image size by dividing 255 to ensure that data ranges between 0 and 1\n",
    "    adjust_x = x / 255.0\n",
    "    \n",
    "    return adjust_x\n",
    "\n",
    "\n",
    "\"\"\"\n",
    "DON'T MODIFY ANYTHING IN THIS CELL THAT IS BELOW THIS LINE\n",
    "\"\"\"\n",
    "tests.test_normalize(normalize)"
   ]
  },
  {
   "cell_type": "markdown",
   "metadata": {},
   "source": [
    "### One-hot encode\n",
    "Just like the previous code cell, you'll be implementing a function for preprocessing.  This time, you'll implement the `one_hot_encode` function. The input, `x`, are a list of labels.  Implement the function to return the list of labels as One-Hot encoded Numpy array.  The possible values for labels are 0 to 9. The one-hot encoding function should return the same encoding for each value between each call to `one_hot_encode`.  Make sure to save the map of encodings outside the function.\n",
    "\n",
    "**Hint:**\n",
    "\n",
    "Look into LabelBinarizer in the preprocessing module of sklearn."
   ]
  },
  {
   "cell_type": "code",
   "execution_count": 4,
   "metadata": {},
   "outputs": [
    {
     "name": "stdout",
     "output_type": "stream",
     "text": [
      "Tests Passed\n"
     ]
    }
   ],
   "source": [
    "from sklearn import preprocessing\n",
    "\n",
    "lb = preprocessing.LabelBinarizer()\n",
    "lb.fit([0,1,2,3,4,5,6,7,8,9])\n",
    "\n",
    "def one_hot_encode(x):\n",
    "    \"\"\"\n",
    "    One hot encode a list of sample labels. Return a one-hot encoded vector for each label.\n",
    "    : x: List of sample Labels\n",
    "    : return: Numpy array of one-hot encoded labels\n",
    "    \"\"\"\n",
    "    # Convert all input numbers to labels wihch displayed as a array from 0 to 9\n",
    "#     print(x)\n",
    "#     print(lb.transform(x))\n",
    "    return lb.transform(x)\n",
    "\n",
    "\n",
    "\"\"\"\n",
    "DON'T MODIFY ANYTHING IN THIS CELL THAT IS BELOW THIS LINE\n",
    "\"\"\"\n",
    "tests.test_one_hot_encode(one_hot_encode)"
   ]
  },
  {
   "cell_type": "markdown",
   "metadata": {},
   "source": [
    "### Randomize Data\n",
    "As you saw from exploring the data above, the order of the samples are randomized.  It doesn't hurt to randomize it again, but you don't need to for this dataset."
   ]
  },
  {
   "cell_type": "markdown",
   "metadata": {},
   "source": [
    "## Preprocess all the data and save it\n",
    "Running the code cell below will preprocess all the CIFAR-10 data and save it to file. The code below also uses 10% of the training data for validation."
   ]
  },
  {
   "cell_type": "code",
   "execution_count": 5,
   "metadata": {
    "collapsed": true
   },
   "outputs": [],
   "source": [
    "\"\"\"\n",
    "DON'T MODIFY ANYTHING IN THIS CELL\n",
    "\"\"\"\n",
    "# Preprocess Training, Validation, and Testing Data\n",
    "helper.preprocess_and_save_data(cifar10_dataset_folder_path, normalize, one_hot_encode)"
   ]
  },
  {
   "cell_type": "markdown",
   "metadata": {},
   "source": [
    "# Check Point\n",
    "This is your first checkpoint.  If you ever decide to come back to this notebook or have to restart the notebook, you can start from here.  The preprocessed data has been saved to disk."
   ]
  },
  {
   "cell_type": "code",
   "execution_count": 6,
   "metadata": {
    "collapsed": true
   },
   "outputs": [],
   "source": [
    "\"\"\"\n",
    "DON'T MODIFY ANYTHING IN THIS CELL\n",
    "\"\"\"\n",
    "import pickle\n",
    "import problem_unittests as tests\n",
    "import helper\n",
    "\n",
    "# Load the Preprocessed Validation data\n",
    "valid_features, valid_labels = pickle.load(open('preprocess_validation.p', mode='rb'))"
   ]
  },
  {
   "cell_type": "markdown",
   "metadata": {},
   "source": [
    "## Build the network\n",
    "For the neural network, you'll build each layer into a function.  Most of the code you've seen has been outside of functions. To test your code more thoroughly, we require that you put each layer in a function.  This allows us to give you better feedback and test for simple mistakes using our unittests before you submit your project.\n",
    "\n",
    ">**Note:** If you're finding it hard to dedicate enough time for this course each week, we've provided a small shortcut to this part of the project. In the next couple of problems, you'll have the option to use classes from the [TensorFlow Layers](https://www.tensorflow.org/api_docs/python/tf/layers) or [TensorFlow Layers (contrib)](https://www.tensorflow.org/api_guides/python/contrib.layers) packages to build each layer, except the layers you build in the \"Convolutional and Max Pooling Layer\" section.  TF Layers is similar to Keras's and TFLearn's abstraction to layers, so it's easy to pickup.\n",
    "\n",
    ">However, if you would like to get the most out of this course, try to solve all the problems _without_ using anything from the TF Layers packages. You **can** still use classes from other packages that happen to have the same name as ones you find in TF Layers! For example, instead of using the TF Layers version of the `conv2d` class, [tf.layers.conv2d](https://www.tensorflow.org/api_docs/python/tf/layers/conv2d), you would want to use the TF Neural Network version of `conv2d`, [tf.nn.conv2d](https://www.tensorflow.org/api_docs/python/tf/nn/conv2d). \n",
    "\n",
    "Let's begin!\n",
    "\n",
    "### Input\n",
    "The neural network needs to read the image data, one-hot encoded labels, and dropout keep probability. Implement the following functions\n",
    "* Implement `neural_net_image_input`\n",
    " * Return a [TF Placeholder](https://www.tensorflow.org/api_docs/python/tf/placeholder)\n",
    " * Set the shape using `image_shape` with batch size set to `None`.\n",
    " * Name the TensorFlow placeholder \"x\" using the TensorFlow `name` parameter in the [TF Placeholder](https://www.tensorflow.org/api_docs/python/tf/placeholder).\n",
    "* Implement `neural_net_label_input`\n",
    " * Return a [TF Placeholder](https://www.tensorflow.org/api_docs/python/tf/placeholder)\n",
    " * Set the shape using `n_classes` with batch size set to `None`.\n",
    " * Name the TensorFlow placeholder \"y\" using the TensorFlow `name` parameter in the [TF Placeholder](https://www.tensorflow.org/api_docs/python/tf/placeholder).\n",
    "* Implement `neural_net_keep_prob_input`\n",
    " * Return a [TF Placeholder](https://www.tensorflow.org/api_docs/python/tf/placeholder) for dropout keep probability.\n",
    " * Name the TensorFlow placeholder \"keep_prob\" using the TensorFlow `name` parameter in the [TF Placeholder](https://www.tensorflow.org/api_docs/python/tf/placeholder).\n",
    "\n",
    "These names will be used at the end of the project to load your saved model.\n",
    "\n",
    "Note: `None` for shapes in TensorFlow allow for a dynamic size."
   ]
  },
  {
   "cell_type": "code",
   "execution_count": 7,
   "metadata": {},
   "outputs": [
    {
     "name": "stdout",
     "output_type": "stream",
     "text": [
      "Image Input Tests Passed.\n",
      "Label Input Tests Passed.\n",
      "Keep Prob Tests Passed.\n"
     ]
    }
   ],
   "source": [
    "import tensorflow as tf\n",
    "\n",
    "def neural_net_image_input(image_shape):\n",
    "    \"\"\"\n",
    "    Return a Tensor for a batch of image input\n",
    "    : image_shape: Shape of the images\n",
    "    : return: Tensor for image input.\n",
    "    \"\"\"\n",
    "    x = tf.placeholder(tf.float32, shape = (None, image_shape[0], image_shape[1], image_shape[2]), name = \"x\")\n",
    "    return x\n",
    "\n",
    "\n",
    "def neural_net_label_input(n_classes):\n",
    "    \"\"\"\n",
    "    Return a Tensor for a batch of label input\n",
    "    : n_classes: Number of classes\n",
    "    : return: Tensor for label input.\n",
    "    \"\"\"\n",
    "    y = tf.placeholder(tf.float32, shape = (None, n_classes), name = \"y\")\n",
    "    return y\n",
    "\n",
    "\n",
    "def neural_net_keep_prob_input():\n",
    "    \"\"\"\n",
    "    Return a Tensor for keep probability\n",
    "    : return: Tensor for keep probability.\n",
    "    \"\"\"\n",
    "    keep_prob = tf.placeholder(tf.float32, name = \"keep_prob\")\n",
    "    return keep_prob\n",
    "\n",
    "\n",
    "\"\"\"\n",
    "DON'T MODIFY ANYTHING IN THIS CELL THAT IS BELOW THIS LINE\n",
    "\"\"\"\n",
    "tf.reset_default_graph()\n",
    "tests.test_nn_image_inputs(neural_net_image_input)\n",
    "tests.test_nn_label_inputs(neural_net_label_input)\n",
    "tests.test_nn_keep_prob_inputs(neural_net_keep_prob_input)"
   ]
  },
  {
   "cell_type": "markdown",
   "metadata": {},
   "source": [
    "### Convolution and Max Pooling Layer\n",
    "Convolution layers have a lot of success with images. For this code cell, you should implement the function `conv2d_maxpool` to apply convolution then max pooling:\n",
    "* Create the weight and bias using `conv_ksize`, `conv_num_outputs` and the shape of `x_tensor`.\n",
    "* Apply a convolution to `x_tensor` using weight and `conv_strides`.\n",
    " * We recommend you use same padding, but you're welcome to use any padding.\n",
    "* Add bias\n",
    "* Add a nonlinear activation to the convolution.\n",
    "* Apply Max Pooling using `pool_ksize` and `pool_strides`.\n",
    " * We recommend you use same padding, but you're welcome to use any padding.\n",
    "\n",
    "**Note:** You **can't** use [TensorFlow Layers](https://www.tensorflow.org/api_docs/python/tf/layers) or [TensorFlow Layers (contrib)](https://www.tensorflow.org/api_guides/python/contrib.layers) for **this** layer, but you can still use TensorFlow's [Neural Network](https://www.tensorflow.org/api_docs/python/tf/nn) package. You may still use the shortcut option for all the **other** layers.\n",
    "\n",
    "** Hint: **\n",
    "\n",
    "When unpacking values as an argument in Python, look into the [unpacking](https://docs.python.org/3/tutorial/controlflow.html#unpacking-argument-lists) operator. "
   ]
  },
  {
   "cell_type": "code",
   "execution_count": 8,
   "metadata": {},
   "outputs": [
    {
     "name": "stdout",
     "output_type": "stream",
     "text": [
      "Tests Passed\n"
     ]
    }
   ],
   "source": [
    "def conv2d_maxpool(x_tensor, conv_num_outputs, conv_ksize, conv_strides, pool_ksize, pool_strides):\n",
    "    \"\"\"\n",
    "    Apply convolution then max pooling to x_tensor\n",
    "    :param x_tensor: TensorFlow Tensor\n",
    "    :param conv_num_outputs: Number of outputs for the convolutional layer\n",
    "    :param conv_ksize: kernal size 2-D Tuple for the convolutional layer\n",
    "    :param conv_strides: Stride 2-D Tuple for convolution\n",
    "    :param pool_ksize: kernal size 2-D Tuple for pool\n",
    "    :param pool_strides: Stride 2-D Tuple for pool\n",
    "    : return: A tensor that represents convolution and max pooling of x_tensor\n",
    "    \"\"\"\n",
    "    height = conv_ksize[0]\n",
    "    width = conv_ksize[1]\n",
    "    depth = x_tensor.shape[3].value\n",
    "    \n",
    "    # Use truncated_normal to generate weights randomly\n",
    "    # [height, weight, input_size, output_size]\n",
    "    weight_shape = [height, width, depth, conv_num_outputs]\n",
    "    weight = tf.Variable(tf.truncated_normal(weight_shape, mean = 0.0, stddev = 0.1)) # I made a silly mistake that I sete stddev 1.0\n",
    "    # generate bias\n",
    "    bias = tf.Variable(tf.zeros(conv_num_outputs))\n",
    "    # [batch_size, height, weight, depth]\n",
    "    strides = [1, conv_strides[0], conv_strides[1], 1]\n",
    "    padding = \"SAME\"\n",
    "    conv2d = tf.nn.conv2d(x_tensor, weight, strides, padding)\n",
    "    #bias\n",
    "    conv2d = tf.nn.bias_add(conv2d, bias)\n",
    "    # relu\n",
    "    conv2d = tf.nn.relu(conv2d)\n",
    "    \n",
    "    # Set the ksize (filter size) for each dimension (batch_size, height, width, depth)\n",
    "    ksize = [1, pool_ksize[0], pool_ksize[1], 1]\n",
    "    # Set the stride for each dimension (batch_size, height, width, depth)\n",
    "    strides = [1, pool_strides[0], pool_strides[1], 1]\n",
    "    padding = \"SAME\"\n",
    "    # https://www.tensorflow.org/versions/r0.11/api_docs/python/nn.html#max_pool\n",
    "    max_pool = tf.nn.max_pool(conv2d, ksize, strides, padding)\n",
    "    return max_pool\n",
    "\n",
    "\n",
    "\"\"\"\n",
    "DON'T MODIFY ANYTHING IN THIS CELL THAT IS BELOW THIS LINE\n",
    "\"\"\"\n",
    "tests.test_con_pool(conv2d_maxpool)"
   ]
  },
  {
   "cell_type": "markdown",
   "metadata": {},
   "source": [
    "### Flatten Layer\n",
    "Implement the `flatten` function to change the dimension of `x_tensor` from a 4-D tensor to a 2-D tensor.  The output should be the shape (*Batch Size*, *Flattened Image Size*). Shortcut option: you can use classes from the [TensorFlow Layers](https://www.tensorflow.org/api_docs/python/tf/layers) or [TensorFlow Layers (contrib)](https://www.tensorflow.org/api_guides/python/contrib.layers) packages for this layer. For more of a challenge, only use other TensorFlow packages."
   ]
  },
  {
   "cell_type": "code",
   "execution_count": 9,
   "metadata": {},
   "outputs": [
    {
     "name": "stdout",
     "output_type": "stream",
     "text": [
      "Tests Passed\n"
     ]
    }
   ],
   "source": [
    "def flatten(x_tensor):\n",
    "    \"\"\"\n",
    "    Flatten x_tensor to (Batch Size, Flattened Image Size)\n",
    "    : x_tensor: A tensor of size (Batch Size, ...), where ... are the image dimensions.\n",
    "    : return: A tensor of size (Batch Size, Flattened Image Size).\n",
    "    \"\"\"\n",
    "    \n",
    "    shape = x_tensor.get_shape().as_list()\n",
    "    image_size = shape[1] * shape[2] * shape[3]\n",
    "    flatten = tf.reshape(x_tensor, [-1, image_size])\n",
    "    return flatten\n",
    "\n",
    "\"\"\"\n",
    "DON'T MODIFY ANYTHING IN THIS CELL THAT IS BELOW THIS LINE\n",
    "\"\"\"\n",
    "tests.test_flatten(flatten)"
   ]
  },
  {
   "cell_type": "markdown",
   "metadata": {},
   "source": [
    "### Fully-Connected Layer\n",
    "Implement the `fully_conn` function to apply a fully connected layer to `x_tensor` with the shape (*Batch Size*, *num_outputs*). Shortcut option: you can use classes from the [TensorFlow Layers](https://www.tensorflow.org/api_docs/python/tf/layers) or [TensorFlow Layers (contrib)](https://www.tensorflow.org/api_guides/python/contrib.layers) packages for this layer. For more of a challenge, only use other TensorFlow packages."
   ]
  },
  {
   "cell_type": "code",
   "execution_count": 10,
   "metadata": {},
   "outputs": [
    {
     "name": "stdout",
     "output_type": "stream",
     "text": [
      "Tests Passed\n"
     ]
    }
   ],
   "source": [
    "def fully_conn(x_tensor, num_outputs):\n",
    "    \"\"\"\n",
    "    Apply a fully connected layer to x_tensor using weight and bias\n",
    "    : x_tensor: A 2-D tensor where the first dimension is batch size.\n",
    "    : num_outputs: The number of output that the new tensor should be.\n",
    "    : return: A 2-D tensor where the second dimension is num_outputs.\n",
    "    \"\"\"\n",
    "    \n",
    "    layer = tf.contrib.layers.fully_connected(x_tensor, num_outputs, tf.nn.relu)\n",
    "    return layer\n",
    "\n",
    "\n",
    "\"\"\"\n",
    "DON'T MODIFY ANYTHING IN THIS CELL THAT IS BELOW THIS LINE\n",
    "\"\"\"\n",
    "tests.test_fully_conn(fully_conn)"
   ]
  },
  {
   "cell_type": "markdown",
   "metadata": {},
   "source": [
    "### Output Layer\n",
    "Implement the `output` function to apply a fully connected layer to `x_tensor` with the shape (*Batch Size*, *num_outputs*). Shortcut option: you can use classes from the [TensorFlow Layers](https://www.tensorflow.org/api_docs/python/tf/layers) or [TensorFlow Layers (contrib)](https://www.tensorflow.org/api_guides/python/contrib.layers) packages for this layer. For more of a challenge, only use other TensorFlow packages.\n",
    "\n",
    "**Note:** Activation, softmax, or cross entropy should **not** be applied to this."
   ]
  },
  {
   "cell_type": "code",
   "execution_count": 11,
   "metadata": {},
   "outputs": [
    {
     "name": "stdout",
     "output_type": "stream",
     "text": [
      "Tests Passed\n"
     ]
    }
   ],
   "source": [
    "def output(x_tensor, num_outputs):\n",
    "    \"\"\"\n",
    "    Apply a output layer to x_tensor using weight and bias\n",
    "    : x_tensor: A 2-D tensor where the first dimension is batch size.\n",
    "    : num_outputs: The number of output that the new tensor should be.\n",
    "    : return: A 2-D tensor where the second dimension is num_outputs.\n",
    "    \"\"\"\n",
    "    \n",
    "    output = tf.contrib.layers.fully_connected(x_tensor, num_outputs)\n",
    "    return output\n",
    "\n",
    "\n",
    "\"\"\"\n",
    "DON'T MODIFY ANYTHING IN THIS CELL THAT IS BELOW THIS LINE\n",
    "\"\"\"\n",
    "tests.test_output(output)"
   ]
  },
  {
   "cell_type": "markdown",
   "metadata": {},
   "source": [
    "### Create Convolutional Model\n",
    "Implement the function `conv_net` to create a convolutional neural network model. The function takes in a batch of images, `x`, and outputs logits.  Use the layers you created above to create this model:\n",
    "\n",
    "* Apply 1, 2, or 3 Convolution and Max Pool layers\n",
    "* Apply a Flatten Layer\n",
    "* Apply 1, 2, or 3 Fully Connected Layers\n",
    "* Apply an Output Layer\n",
    "* Return the output\n",
    "* Apply [TensorFlow's Dropout](https://www.tensorflow.org/api_docs/python/tf/nn/dropout) to one or more layers in the model using `keep_prob`. "
   ]
  },
  {
   "cell_type": "code",
   "execution_count": 12,
   "metadata": {},
   "outputs": [
    {
     "name": "stdout",
     "output_type": "stream",
     "text": [
      "Neural Network Built!\n"
     ]
    }
   ],
   "source": [
    "def conv_net(x, keep_prob):\n",
    "    \"\"\"\n",
    "    Create a convolutional neural network model\n",
    "    : x: Placeholder tensor that holds image data.\n",
    "    : keep_prob: Placeholder tensor that hold dropout keep probability.\n",
    "    : return: Tensor that represents logits\n",
    "    \"\"\"\n",
    "    # Apply 1, 2, or 3 Convolution and Max Pool layers\n",
    "    #    Play around with different number of outputs, kernel size and stride\n",
    "    # Function Definition from Above:\n",
    "    #    conv2d_maxpool(x_tensor, conv_num_outputs, conv_ksize, conv_strides, pool_ksize, pool_strides)\n",
    "    \n",
    "    # init\n",
    "    conv_net = conv2d_maxpool(x, 16, (2,2), (1,1), (2,2), (2,2))\n",
    "    conv_net = conv2d_maxpool(conv_net, 32, (2,2), (1,1), (2,2), (2,2))\n",
    "    conv_net = conv2d_maxpool(conv_net, 64, (2,2), (1,1), (2,2), (2,2))\n",
    "\n",
    "    # Apply a Flatten Layer\n",
    "    # Function Definition from Above:\n",
    "    #   flatten(x_tensor)\n",
    "    conv_net = flatten(conv_net)\n",
    "    \n",
    "\n",
    "    # Apply 1, 2, or 3 Fully Connected Layers\n",
    "    #    Play around with different number of outputs\n",
    "    # Function Definition from Above:\n",
    "    #   fully_conn(x_tensor, num_outputs)\n",
    "    conv_net = fully_conn(conv_net, 512)\n",
    "    conv_net = tf.nn.dropout(conv_net, keep_prob)\n",
    "    conv_net = fully_conn(conv_net, 256)\n",
    "\n",
    "    # Apply an Output Layer\n",
    "    #    Set this to the number of classes\n",
    "    # Function Definition from Above:\n",
    "    #   output(x_tensor, num_outputs)\n",
    "    conv_net = output(conv_net, 10)\n",
    "    \n",
    "    \n",
    "    # return output\n",
    "    return conv_net\n",
    "\n",
    "\n",
    "\"\"\"\n",
    "DON'T MODIFY ANYTHING IN THIS CELL THAT IS BELOW THIS LINE\n",
    "\"\"\"\n",
    "\n",
    "##############################\n",
    "## Build the Neural Network ##\n",
    "##############################\n",
    "\n",
    "# Remove previous weights, bias, inputs, etc..\n",
    "tf.reset_default_graph()\n",
    "\n",
    "# Inputs\n",
    "x = neural_net_image_input((32, 32, 3))\n",
    "y = neural_net_label_input(10)\n",
    "keep_prob = neural_net_keep_prob_input()\n",
    "\n",
    "# Model\n",
    "logits = conv_net(x, keep_prob)\n",
    "\n",
    "# Name logits Tensor, so that is can be loaded from disk after training\n",
    "logits = tf.identity(logits, name='logits')\n",
    "\n",
    "# Loss and Optimizer\n",
    "cost = tf.reduce_mean(tf.nn.softmax_cross_entropy_with_logits(logits=logits, labels=y))\n",
    "optimizer = tf.train.AdamOptimizer().minimize(cost)\n",
    "\n",
    "# Accuracy\n",
    "correct_pred = tf.equal(tf.argmax(logits, 1), tf.argmax(y, 1))\n",
    "accuracy = tf.reduce_mean(tf.cast(correct_pred, tf.float32), name='accuracy')\n",
    "\n",
    "tests.test_conv_net(conv_net)"
   ]
  },
  {
   "cell_type": "markdown",
   "metadata": {},
   "source": [
    "## Train the Neural Network\n",
    "### Single Optimization\n",
    "Implement the function `train_neural_network` to do a single optimization.  The optimization should use `optimizer` to optimize in `session` with a `feed_dict` of the following:\n",
    "* `x` for image input\n",
    "* `y` for labels\n",
    "* `keep_prob` for keep probability for dropout\n",
    "\n",
    "This function will be called for each batch, so `tf.global_variables_initializer()` has already been called.\n",
    "\n",
    "Note: Nothing needs to be returned. This function is only optimizing the neural network."
   ]
  },
  {
   "cell_type": "code",
   "execution_count": 13,
   "metadata": {},
   "outputs": [
    {
     "name": "stdout",
     "output_type": "stream",
     "text": [
      "Tests Passed\n"
     ]
    }
   ],
   "source": [
    "def train_neural_network(session, optimizer, keep_probability, feature_batch, label_batch):\n",
    "    \"\"\"\n",
    "    Optimize the session on a batch of images and labels\n",
    "    : session: Current TensorFlow session\n",
    "    : optimizer: TensorFlow optimizer function\n",
    "    : keep_probability: keep probability\n",
    "    : feature_batch: Batch of Numpy image data\n",
    "    : label_batch: Batch of Numpy label data\n",
    "    \"\"\"\n",
    "    session.run(optimizer, feed_dict = {x:feature_batch, y:label_batch, keep_prob:keep_probability})\n",
    "    pass\n",
    "\n",
    "\n",
    "\"\"\"\n",
    "DON'T MODIFY ANYTHING IN THIS CELL THAT IS BELOW THIS LINE\n",
    "\"\"\"\n",
    "tests.test_train_nn(train_neural_network)"
   ]
  },
  {
   "cell_type": "markdown",
   "metadata": {},
   "source": [
    "### Show Stats\n",
    "Implement the function `print_stats` to print loss and validation accuracy.  Use the global variables `valid_features` and `valid_labels` to calculate validation accuracy.  Use a keep probability of `1.0` to calculate the loss and validation accuracy."
   ]
  },
  {
   "cell_type": "code",
   "execution_count": 14,
   "metadata": {
    "collapsed": true
   },
   "outputs": [],
   "source": [
    "def print_stats(session, feature_batch, label_batch, cost, accuracy):\n",
    "    \"\"\"\n",
    "    Print information about loss and validation accuracy\n",
    "    : session: Current TensorFlow session\n",
    "    : feature_batch: Batch of Numpy image data\n",
    "    : label_batch: Batch of Numpy label data\n",
    "    : cost: TensorFlow cost function\n",
    "    : accuracy: TensorFlow accuracy function\n",
    "    \"\"\"\n",
    "    loss = session.run(cost, feed_dict = {x: feature_batch, y: label_batch, keep_prob: 1.0})\n",
    "    valid_accuracy = session.run(accuracy, feed_dict = {x: valid_features, y: valid_labels, keep_prob: 1.0}) \n",
    "    \n",
    "    print('loss: {}, valid_accuracy: {}'.format(loss, valid_accuracy))\n",
    "    pass"
   ]
  },
  {
   "cell_type": "markdown",
   "metadata": {},
   "source": [
    "### Hyperparameters\n",
    "Tune the following parameters:\n",
    "* Set `epochs` to the number of iterations until the network stops learning or start overfitting\n",
    "* Set `batch_size` to the highest number that your machine has memory for.  Most people set them to common sizes of memory:\n",
    " * 64\n",
    " * 128\n",
    " * 256\n",
    " * ...\n",
    "* Set `keep_probability` to the probability of keeping a node using dropout"
   ]
  },
  {
   "cell_type": "code",
   "execution_count": 15,
   "metadata": {
    "collapsed": true
   },
   "outputs": [],
   "source": [
    "# Tune Parameters\n",
    "epochs = 32\n",
    "batch_size = 256 # the more batch_size is set, the slower the model learns.\n",
    "keep_probability = 0.5"
   ]
  },
  {
   "cell_type": "markdown",
   "metadata": {},
   "source": [
    "### Train on a Single CIFAR-10 Batch\n",
    "Instead of training the neural network on all the CIFAR-10 batches of data, let's use a single batch. This should save time while you iterate on the model to get a better accuracy.  Once the final validation accuracy is 50% or greater, run the model on all the data in the next section."
   ]
  },
  {
   "cell_type": "code",
   "execution_count": 16,
   "metadata": {},
   "outputs": [
    {
     "name": "stdout",
     "output_type": "stream",
     "text": [
      "Checking the Training on a Single Batch...\n",
      "Epoch  1, CIFAR-10 Batch 1:  loss: 2.1307373046875, valid_accuracy: 0.24959999322891235\n",
      "Epoch  2, CIFAR-10 Batch 1:  loss: 1.9665873050689697, valid_accuracy: 0.3547999858856201\n",
      "Epoch  3, CIFAR-10 Batch 1:  loss: 1.7990236282348633, valid_accuracy: 0.39899998903274536\n",
      "Epoch  4, CIFAR-10 Batch 1:  loss: 1.6391961574554443, valid_accuracy: 0.44200000166893005\n",
      "Epoch  5, CIFAR-10 Batch 1:  loss: 1.4931052923202515, valid_accuracy: 0.46459999680519104\n",
      "Epoch  6, CIFAR-10 Batch 1:  loss: 1.3804800510406494, valid_accuracy: 0.4781999886035919\n",
      "Epoch  7, CIFAR-10 Batch 1:  loss: 1.2660871744155884, valid_accuracy: 0.4909999966621399\n",
      "Epoch  8, CIFAR-10 Batch 1:  loss: 1.1375007629394531, valid_accuracy: 0.5026000142097473\n",
      "Epoch  9, CIFAR-10 Batch 1:  loss: 1.0672307014465332, valid_accuracy: 0.5156000256538391\n",
      "Epoch 10, CIFAR-10 Batch 1:  loss: 0.9779752492904663, valid_accuracy: 0.5288000106811523\n",
      "Epoch 11, CIFAR-10 Batch 1:  loss: 0.9109945297241211, valid_accuracy: 0.5368000268936157\n",
      "Epoch 12, CIFAR-10 Batch 1:  loss: 0.8358440399169922, valid_accuracy: 0.5443999767303467\n",
      "Epoch 13, CIFAR-10 Batch 1:  loss: 0.8102924227714539, valid_accuracy: 0.5446000099182129\n",
      "Epoch 14, CIFAR-10 Batch 1:  loss: 0.7684792280197144, valid_accuracy: 0.5558000206947327\n",
      "Epoch 15, CIFAR-10 Batch 1:  loss: 0.7060998678207397, valid_accuracy: 0.5523999929428101\n",
      "Epoch 16, CIFAR-10 Batch 1:  loss: 0.6489109992980957, valid_accuracy: 0.5640000104904175\n",
      "Epoch 17, CIFAR-10 Batch 1:  loss: 0.5690217614173889, valid_accuracy: 0.5658000111579895\n",
      "Epoch 18, CIFAR-10 Batch 1:  loss: 0.563336193561554, valid_accuracy: 0.5396000146865845\n",
      "Epoch 19, CIFAR-10 Batch 1:  loss: 0.49005451798439026, valid_accuracy: 0.5636000037193298\n",
      "Epoch 20, CIFAR-10 Batch 1:  loss: 0.47512149810791016, valid_accuracy: 0.5672000050544739\n",
      "Epoch 21, CIFAR-10 Batch 1:  loss: 0.4275195002555847, valid_accuracy: 0.5774000287055969\n",
      "Epoch 22, CIFAR-10 Batch 1:  loss: 0.40833377838134766, valid_accuracy: 0.571399986743927\n",
      "Epoch 23, CIFAR-10 Batch 1:  loss: 0.3929465413093567, valid_accuracy: 0.5576000213623047\n",
      "Epoch 24, CIFAR-10 Batch 1:  loss: 0.3858301639556885, valid_accuracy: 0.5666000247001648\n",
      "Epoch 25, CIFAR-10 Batch 1:  loss: 0.3524974584579468, valid_accuracy: 0.5565999746322632\n",
      "Epoch 26, CIFAR-10 Batch 1:  loss: 0.33863240480422974, valid_accuracy: 0.5630000233650208\n",
      "Epoch 27, CIFAR-10 Batch 1:  loss: 0.32670459151268005, valid_accuracy: 0.5559999942779541\n",
      "Epoch 28, CIFAR-10 Batch 1:  loss: 0.31959015130996704, valid_accuracy: 0.5580000281333923\n",
      "Epoch 29, CIFAR-10 Batch 1:  loss: 0.3415279984474182, valid_accuracy: 0.5576000213623047\n",
      "Epoch 30, CIFAR-10 Batch 1:  loss: 0.30865398049354553, valid_accuracy: 0.5669999718666077\n",
      "Epoch 31, CIFAR-10 Batch 1:  loss: 0.2925543487071991, valid_accuracy: 0.5580000281333923\n",
      "Epoch 32, CIFAR-10 Batch 1:  loss: 0.27015072107315063, valid_accuracy: 0.5767999887466431\n"
     ]
    }
   ],
   "source": [
    "\"\"\"\n",
    "DON'T MODIFY ANYTHING IN THIS CELL\n",
    "\"\"\"\n",
    "print('Checking the Training on a Single Batch...')\n",
    "with tf.Session() as sess:\n",
    "    # Initializing the variables\n",
    "    sess.run(tf.global_variables_initializer())\n",
    "    \n",
    "    # Training cycle\n",
    "    for epoch in range(epochs):\n",
    "        batch_i = 1\n",
    "        for batch_features, batch_labels in helper.load_preprocess_training_batch(batch_i, batch_size):\n",
    "            train_neural_network(sess, optimizer, keep_probability, batch_features, batch_labels)\n",
    "        print('Epoch {:>2}, CIFAR-10 Batch {}:  '.format(epoch + 1, batch_i), end='')\n",
    "        print_stats(sess, batch_features, batch_labels, cost, accuracy)"
   ]
  },
  {
   "cell_type": "markdown",
   "metadata": {},
   "source": [
    "### Fully Train the Model\n",
    "Now that you got a good accuracy with a single CIFAR-10 batch, try it with all five batches."
   ]
  },
  {
   "cell_type": "code",
   "execution_count": 17,
   "metadata": {},
   "outputs": [
    {
     "name": "stdout",
     "output_type": "stream",
     "text": [
      "Training...\n",
      "Epoch  1, CIFAR-10 Batch 1:  loss: 2.2648162841796875, valid_accuracy: 0.22660000622272491\n",
      "Epoch  1, CIFAR-10 Batch 2:  loss: 1.83321213722229, valid_accuracy: 0.3091999888420105\n",
      "Epoch  1, CIFAR-10 Batch 3:  loss: 1.7326676845550537, valid_accuracy: 0.3668000102043152\n",
      "Epoch  1, CIFAR-10 Batch 4:  loss: 1.786025047302246, valid_accuracy: 0.4099999964237213\n",
      "Epoch  1, CIFAR-10 Batch 5:  loss: 1.718806505203247, valid_accuracy: 0.4341999888420105\n",
      "Epoch  2, CIFAR-10 Batch 1:  loss: 1.7219693660736084, valid_accuracy: 0.45399999618530273\n",
      "Epoch  2, CIFAR-10 Batch 2:  loss: 1.4732611179351807, valid_accuracy: 0.45680001378059387\n",
      "Epoch  2, CIFAR-10 Batch 3:  loss: 1.2913477420806885, valid_accuracy: 0.45159998536109924\n",
      "Epoch  2, CIFAR-10 Batch 4:  loss: 1.4368714094161987, valid_accuracy: 0.49300000071525574\n",
      "Epoch  2, CIFAR-10 Batch 5:  loss: 1.5415549278259277, valid_accuracy: 0.4952000081539154\n",
      "Epoch  3, CIFAR-10 Batch 1:  loss: 1.49796462059021, valid_accuracy: 0.5181999802589417\n",
      "Epoch  3, CIFAR-10 Batch 2:  loss: 1.3024998903274536, valid_accuracy: 0.5016000270843506\n",
      "Epoch  3, CIFAR-10 Batch 3:  loss: 1.0931446552276611, valid_accuracy: 0.5217999815940857\n",
      "Epoch  3, CIFAR-10 Batch 4:  loss: 1.240430235862732, valid_accuracy: 0.5374000072479248\n",
      "Epoch  3, CIFAR-10 Batch 5:  loss: 1.3673406839370728, valid_accuracy: 0.5383999943733215\n",
      "Epoch  4, CIFAR-10 Batch 1:  loss: 1.2999330759048462, valid_accuracy: 0.5613999962806702\n",
      "Epoch  4, CIFAR-10 Batch 2:  loss: 1.1453182697296143, valid_accuracy: 0.5321999788284302\n",
      "Epoch  4, CIFAR-10 Batch 3:  loss: 0.9230953454971313, valid_accuracy: 0.5501999855041504\n",
      "Epoch  4, CIFAR-10 Batch 4:  loss: 1.0561037063598633, valid_accuracy: 0.5622000098228455\n",
      "Epoch  4, CIFAR-10 Batch 5:  loss: 1.2092137336730957, valid_accuracy: 0.5672000050544739\n",
      "Epoch  5, CIFAR-10 Batch 1:  loss: 1.2265517711639404, valid_accuracy: 0.5753999948501587\n",
      "Epoch  5, CIFAR-10 Batch 2:  loss: 1.0385444164276123, valid_accuracy: 0.5478000044822693\n",
      "Epoch  5, CIFAR-10 Batch 3:  loss: 0.8149603009223938, valid_accuracy: 0.5802000164985657\n",
      "Epoch  5, CIFAR-10 Batch 4:  loss: 0.9789959192276001, valid_accuracy: 0.5834000110626221\n",
      "Epoch  5, CIFAR-10 Batch 5:  loss: 1.113229513168335, valid_accuracy: 0.5839999914169312\n",
      "Epoch  6, CIFAR-10 Batch 1:  loss: 1.0844873189926147, valid_accuracy: 0.5878000259399414\n",
      "Epoch  6, CIFAR-10 Batch 2:  loss: 0.9316903352737427, valid_accuracy: 0.5875999927520752\n",
      "Epoch  6, CIFAR-10 Batch 3:  loss: 0.739121675491333, valid_accuracy: 0.6018000245094299\n",
      "Epoch  6, CIFAR-10 Batch 4:  loss: 0.8694362640380859, valid_accuracy: 0.609000027179718\n",
      "Epoch  6, CIFAR-10 Batch 5:  loss: 1.0022598505020142, valid_accuracy: 0.6097999811172485\n",
      "Epoch  7, CIFAR-10 Batch 1:  loss: 1.0171867609024048, valid_accuracy: 0.6001999974250793\n",
      "Epoch  7, CIFAR-10 Batch 2:  loss: 0.8333477973937988, valid_accuracy: 0.6025999784469604\n",
      "Epoch  7, CIFAR-10 Batch 3:  loss: 0.6663187146186829, valid_accuracy: 0.6164000034332275\n",
      "Epoch  7, CIFAR-10 Batch 4:  loss: 0.7843673229217529, valid_accuracy: 0.6291999816894531\n",
      "Epoch  7, CIFAR-10 Batch 5:  loss: 0.8745962381362915, valid_accuracy: 0.6248000264167786\n",
      "Epoch  8, CIFAR-10 Batch 1:  loss: 0.9490693807601929, valid_accuracy: 0.6284000277519226\n",
      "Epoch  8, CIFAR-10 Batch 2:  loss: 0.7094486355781555, valid_accuracy: 0.6177999973297119\n",
      "Epoch  8, CIFAR-10 Batch 3:  loss: 0.6448057889938354, valid_accuracy: 0.6208000183105469\n",
      "Epoch  8, CIFAR-10 Batch 4:  loss: 0.7154926657676697, valid_accuracy: 0.6395999789237976\n",
      "Epoch  8, CIFAR-10 Batch 5:  loss: 0.7941614985466003, valid_accuracy: 0.642799973487854\n",
      "Epoch  9, CIFAR-10 Batch 1:  loss: 0.8297454714775085, valid_accuracy: 0.63919997215271\n",
      "Epoch  9, CIFAR-10 Batch 2:  loss: 0.6475081443786621, valid_accuracy: 0.6370000243186951\n",
      "Epoch  9, CIFAR-10 Batch 3:  loss: 0.5624517202377319, valid_accuracy: 0.6330000162124634\n",
      "Epoch  9, CIFAR-10 Batch 4:  loss: 0.7213110327720642, valid_accuracy: 0.6416000127792358\n",
      "Epoch  9, CIFAR-10 Batch 5:  loss: 0.7122443914413452, valid_accuracy: 0.6579999923706055\n",
      "Epoch 10, CIFAR-10 Batch 1:  loss: 0.8003368377685547, valid_accuracy: 0.6402000188827515\n",
      "Epoch 10, CIFAR-10 Batch 2:  loss: 0.49547654390335083, valid_accuracy: 0.6341999769210815\n",
      "Epoch 10, CIFAR-10 Batch 3:  loss: 0.4732133448123932, valid_accuracy: 0.6481999754905701\n",
      "Epoch 10, CIFAR-10 Batch 4:  loss: 0.6148020029067993, valid_accuracy: 0.650600016117096\n",
      "Epoch 10, CIFAR-10 Batch 5:  loss: 0.64117032289505, valid_accuracy: 0.6557999849319458\n",
      "Epoch 11, CIFAR-10 Batch 1:  loss: 0.7895468473434448, valid_accuracy: 0.645799994468689\n",
      "Epoch 11, CIFAR-10 Batch 2:  loss: 0.4868464469909668, valid_accuracy: 0.6484000086784363\n",
      "Epoch 11, CIFAR-10 Batch 3:  loss: 0.4417584538459778, valid_accuracy: 0.6521999835968018\n",
      "Epoch 11, CIFAR-10 Batch 4:  loss: 0.5508236885070801, valid_accuracy: 0.6583999991416931\n",
      "Epoch 11, CIFAR-10 Batch 5:  loss: 0.6285291910171509, valid_accuracy: 0.6611999869346619\n",
      "Epoch 12, CIFAR-10 Batch 1:  loss: 0.7342296242713928, valid_accuracy: 0.670199990272522\n",
      "Epoch 12, CIFAR-10 Batch 2:  loss: 0.4172152578830719, valid_accuracy: 0.6610000133514404\n",
      "Epoch 12, CIFAR-10 Batch 3:  loss: 0.44374045729637146, valid_accuracy: 0.6638000011444092\n",
      "Epoch 12, CIFAR-10 Batch 4:  loss: 0.4917440414428711, valid_accuracy: 0.6553999781608582\n",
      "Epoch 12, CIFAR-10 Batch 5:  loss: 0.5544499754905701, valid_accuracy: 0.6797999739646912\n",
      "Epoch 13, CIFAR-10 Batch 1:  loss: 0.671328067779541, valid_accuracy: 0.6600000262260437\n",
      "Epoch 13, CIFAR-10 Batch 2:  loss: 0.3809881806373596, valid_accuracy: 0.657800018787384\n",
      "Epoch 13, CIFAR-10 Batch 3:  loss: 0.39379891753196716, valid_accuracy: 0.6690000295639038\n",
      "Epoch 13, CIFAR-10 Batch 4:  loss: 0.4361339509487152, valid_accuracy: 0.670799970626831\n",
      "Epoch 13, CIFAR-10 Batch 5:  loss: 0.5400310754776001, valid_accuracy: 0.6772000193595886\n",
      "Epoch 14, CIFAR-10 Batch 1:  loss: 0.6686091423034668, valid_accuracy: 0.6603999733924866\n",
      "Epoch 14, CIFAR-10 Batch 2:  loss: 0.3302711844444275, valid_accuracy: 0.6668000221252441\n",
      "Epoch 14, CIFAR-10 Batch 3:  loss: 0.3688454031944275, valid_accuracy: 0.6657999753952026\n",
      "Epoch 14, CIFAR-10 Batch 4:  loss: 0.4251973032951355, valid_accuracy: 0.6632000207901001\n",
      "Epoch 14, CIFAR-10 Batch 5:  loss: 0.47388237714767456, valid_accuracy: 0.673799991607666\n",
      "Epoch 15, CIFAR-10 Batch 1:  loss: 0.6017469763755798, valid_accuracy: 0.6678000092506409\n",
      "Epoch 15, CIFAR-10 Batch 2:  loss: 0.29629388451576233, valid_accuracy: 0.6629999876022339\n",
      "Epoch 15, CIFAR-10 Batch 3:  loss: 0.3422542214393616, valid_accuracy: 0.6723999977111816\n",
      "Epoch 15, CIFAR-10 Batch 4:  loss: 0.3952609896659851, valid_accuracy: 0.6693999767303467\n",
      "Epoch 15, CIFAR-10 Batch 5:  loss: 0.4477140009403229, valid_accuracy: 0.6832000017166138\n",
      "Epoch 16, CIFAR-10 Batch 1:  loss: 0.5820774435997009, valid_accuracy: 0.6773999929428101\n",
      "Epoch 16, CIFAR-10 Batch 2:  loss: 0.27242621779441833, valid_accuracy: 0.6746000051498413\n",
      "Epoch 16, CIFAR-10 Batch 3:  loss: 0.3196851909160614, valid_accuracy: 0.6597999930381775\n",
      "Epoch 16, CIFAR-10 Batch 4:  loss: 0.3762994706630707, valid_accuracy: 0.6837999820709229\n",
      "Epoch 16, CIFAR-10 Batch 5:  loss: 0.4372689723968506, valid_accuracy: 0.6916000247001648\n",
      "Epoch 17, CIFAR-10 Batch 1:  loss: 0.5223881006240845, valid_accuracy: 0.6883999705314636\n",
      "Epoch 17, CIFAR-10 Batch 2:  loss: 0.2644098103046417, valid_accuracy: 0.6894000172615051\n",
      "Epoch 17, CIFAR-10 Batch 3:  loss: 0.311527818441391, valid_accuracy: 0.6690000295639038\n",
      "Epoch 17, CIFAR-10 Batch 4:  loss: 0.3609589636325836, valid_accuracy: 0.6845999956130981\n",
      "Epoch 17, CIFAR-10 Batch 5:  loss: 0.3993126153945923, valid_accuracy: 0.6949999928474426\n",
      "Epoch 18, CIFAR-10 Batch 1:  loss: 0.5053442716598511, valid_accuracy: 0.6959999799728394\n",
      "Epoch 18, CIFAR-10 Batch 2:  loss: 0.25025075674057007, valid_accuracy: 0.6830000281333923\n",
      "Epoch 18, CIFAR-10 Batch 3:  loss: 0.2780815660953522, valid_accuracy: 0.6664000153541565\n",
      "Epoch 18, CIFAR-10 Batch 4:  loss: 0.3362782895565033, valid_accuracy: 0.6873999834060669\n",
      "Epoch 18, CIFAR-10 Batch 5:  loss: 0.38607877492904663, valid_accuracy: 0.699999988079071\n",
      "Epoch 19, CIFAR-10 Batch 1:  loss: 0.4737202227115631, valid_accuracy: 0.703000009059906\n"
     ]
    },
    {
     "name": "stdout",
     "output_type": "stream",
     "text": [
      "Epoch 19, CIFAR-10 Batch 2:  loss: 0.2412165105342865, valid_accuracy: 0.6904000043869019\n",
      "Epoch 19, CIFAR-10 Batch 3:  loss: 0.275653213262558, valid_accuracy: 0.6711999773979187\n",
      "Epoch 19, CIFAR-10 Batch 4:  loss: 0.34410929679870605, valid_accuracy: 0.6827999949455261\n",
      "Epoch 19, CIFAR-10 Batch 5:  loss: 0.3707609176635742, valid_accuracy: 0.7009999752044678\n",
      "Epoch 20, CIFAR-10 Batch 1:  loss: 0.4742049276828766, valid_accuracy: 0.7002000212669373\n",
      "Epoch 20, CIFAR-10 Batch 2:  loss: 0.20083045959472656, valid_accuracy: 0.6949999928474426\n",
      "Epoch 20, CIFAR-10 Batch 3:  loss: 0.24447619915008545, valid_accuracy: 0.6597999930381775\n",
      "Epoch 20, CIFAR-10 Batch 4:  loss: 0.3246961236000061, valid_accuracy: 0.6814000010490417\n",
      "Epoch 20, CIFAR-10 Batch 5:  loss: 0.3526739478111267, valid_accuracy: 0.7089999914169312\n",
      "Epoch 21, CIFAR-10 Batch 1:  loss: 0.4781126081943512, valid_accuracy: 0.6940000057220459\n",
      "Epoch 21, CIFAR-10 Batch 2:  loss: 0.1943758726119995, valid_accuracy: 0.6912000179290771\n",
      "Epoch 21, CIFAR-10 Batch 3:  loss: 0.24606361985206604, valid_accuracy: 0.6908000111579895\n",
      "Epoch 21, CIFAR-10 Batch 4:  loss: 0.31967198848724365, valid_accuracy: 0.6977999806404114\n",
      "Epoch 21, CIFAR-10 Batch 5:  loss: 0.3522185683250427, valid_accuracy: 0.7095999717712402\n",
      "Epoch 22, CIFAR-10 Batch 1:  loss: 0.4461413323879242, valid_accuracy: 0.7099999785423279\n",
      "Epoch 22, CIFAR-10 Batch 2:  loss: 0.09767244756221771, valid_accuracy: 0.6967999935150146\n",
      "Epoch 22, CIFAR-10 Batch 3:  loss: 0.09460562467575073, valid_accuracy: 0.704200029373169\n",
      "Epoch 22, CIFAR-10 Batch 4:  loss: 0.09259124845266342, valid_accuracy: 0.7059999704360962\n",
      "Epoch 22, CIFAR-10 Batch 5:  loss: 0.07089230418205261, valid_accuracy: 0.7161999940872192\n",
      "Epoch 23, CIFAR-10 Batch 1:  loss: 0.27862849831581116, valid_accuracy: 0.722000002861023\n",
      "Epoch 23, CIFAR-10 Batch 2:  loss: 0.0505928099155426, valid_accuracy: 0.6941999793052673\n",
      "Epoch 23, CIFAR-10 Batch 3:  loss: 0.07417585700750351, valid_accuracy: 0.7009999752044678\n",
      "Epoch 23, CIFAR-10 Batch 4:  loss: 0.09036175161600113, valid_accuracy: 0.7056000232696533\n",
      "Epoch 23, CIFAR-10 Batch 5:  loss: 0.07883797585964203, valid_accuracy: 0.7107999920845032\n",
      "Epoch 24, CIFAR-10 Batch 1:  loss: 0.24023334681987762, valid_accuracy: 0.7188000082969666\n",
      "Epoch 24, CIFAR-10 Batch 2:  loss: 0.05200878903269768, valid_accuracy: 0.6926000118255615\n",
      "Epoch 24, CIFAR-10 Batch 3:  loss: 0.08408810198307037, valid_accuracy: 0.7084000110626221\n",
      "Epoch 24, CIFAR-10 Batch 4:  loss: 0.06963623315095901, valid_accuracy: 0.718999981880188\n",
      "Epoch 24, CIFAR-10 Batch 5:  loss: 0.06963828206062317, valid_accuracy: 0.718999981880188\n",
      "Epoch 25, CIFAR-10 Batch 1:  loss: 0.20143218338489532, valid_accuracy: 0.725600004196167\n",
      "Epoch 25, CIFAR-10 Batch 2:  loss: 0.04923376813530922, valid_accuracy: 0.7088000178337097\n",
      "Epoch 25, CIFAR-10 Batch 3:  loss: 0.05622055381536484, valid_accuracy: 0.7185999751091003\n",
      "Epoch 25, CIFAR-10 Batch 4:  loss: 0.05388137698173523, valid_accuracy: 0.7139999866485596\n",
      "Epoch 25, CIFAR-10 Batch 5:  loss: 0.059919435530900955, valid_accuracy: 0.7148000001907349\n",
      "Epoch 26, CIFAR-10 Batch 1:  loss: 0.1619478315114975, valid_accuracy: 0.722599983215332\n",
      "Epoch 26, CIFAR-10 Batch 2:  loss: 0.048862289637327194, valid_accuracy: 0.7008000016212463\n",
      "Epoch 26, CIFAR-10 Batch 3:  loss: 0.05135263130068779, valid_accuracy: 0.7113999724388123\n",
      "Epoch 26, CIFAR-10 Batch 4:  loss: 0.062219299376010895, valid_accuracy: 0.7174000144004822\n",
      "Epoch 26, CIFAR-10 Batch 5:  loss: 0.04291636124253273, valid_accuracy: 0.725600004196167\n",
      "Epoch 27, CIFAR-10 Batch 1:  loss: 0.10318722575902939, valid_accuracy: 0.7202000021934509\n",
      "Epoch 27, CIFAR-10 Batch 2:  loss: 0.04988294839859009, valid_accuracy: 0.7157999873161316\n",
      "Epoch 27, CIFAR-10 Batch 3:  loss: 0.05813983827829361, valid_accuracy: 0.7125999927520752\n",
      "Epoch 27, CIFAR-10 Batch 4:  loss: 0.06956730037927628, valid_accuracy: 0.7211999893188477\n",
      "Epoch 27, CIFAR-10 Batch 5:  loss: 0.043795082718133926, valid_accuracy: 0.7210000157356262\n",
      "Epoch 28, CIFAR-10 Batch 1:  loss: 0.07807059586048126, valid_accuracy: 0.7250000238418579\n",
      "Epoch 28, CIFAR-10 Batch 2:  loss: 0.0333080068230629, valid_accuracy: 0.7067999839782715\n",
      "Epoch 28, CIFAR-10 Batch 3:  loss: 0.036179594695568085, valid_accuracy: 0.7202000021934509\n",
      "Epoch 28, CIFAR-10 Batch 4:  loss: 0.07770261913537979, valid_accuracy: 0.7192000150680542\n",
      "Epoch 28, CIFAR-10 Batch 5:  loss: 0.04670429974794388, valid_accuracy: 0.722599983215332\n",
      "Epoch 29, CIFAR-10 Batch 1:  loss: 0.0723455399274826, valid_accuracy: 0.7328000068664551\n",
      "Epoch 29, CIFAR-10 Batch 2:  loss: 0.026514817029237747, valid_accuracy: 0.7139999866485596\n",
      "Epoch 29, CIFAR-10 Batch 3:  loss: 0.030464675277471542, valid_accuracy: 0.7117999792098999\n",
      "Epoch 29, CIFAR-10 Batch 4:  loss: 0.04083133488893509, valid_accuracy: 0.7251999974250793\n",
      "Epoch 29, CIFAR-10 Batch 5:  loss: 0.03926637023687363, valid_accuracy: 0.7257999777793884\n",
      "Epoch 30, CIFAR-10 Batch 1:  loss: 0.05777338892221451, valid_accuracy: 0.7146000266075134\n",
      "Epoch 30, CIFAR-10 Batch 2:  loss: 0.0317661352455616, valid_accuracy: 0.7059999704360962\n",
      "Epoch 30, CIFAR-10 Batch 3:  loss: 0.02719026245176792, valid_accuracy: 0.7206000089645386\n",
      "Epoch 30, CIFAR-10 Batch 4:  loss: 0.04809582978487015, valid_accuracy: 0.7197999954223633\n",
      "Epoch 30, CIFAR-10 Batch 5:  loss: 0.034780103713274, valid_accuracy: 0.7210000157356262\n",
      "Epoch 31, CIFAR-10 Batch 1:  loss: 0.051037631928920746, valid_accuracy: 0.7214000225067139\n",
      "Epoch 31, CIFAR-10 Batch 2:  loss: 0.02467561885714531, valid_accuracy: 0.6873999834060669\n",
      "Epoch 31, CIFAR-10 Batch 3:  loss: 0.037310641258955, valid_accuracy: 0.7107999920845032\n",
      "Epoch 31, CIFAR-10 Batch 4:  loss: 0.035091280937194824, valid_accuracy: 0.7196000218391418\n",
      "Epoch 31, CIFAR-10 Batch 5:  loss: 0.03243597596883774, valid_accuracy: 0.7247999906539917\n",
      "Epoch 32, CIFAR-10 Batch 1:  loss: 0.03784967213869095, valid_accuracy: 0.7232000231742859\n",
      "Epoch 32, CIFAR-10 Batch 2:  loss: 0.02310812845826149, valid_accuracy: 0.6922000050544739\n",
      "Epoch 32, CIFAR-10 Batch 3:  loss: 0.030903419479727745, valid_accuracy: 0.7271999716758728\n",
      "Epoch 32, CIFAR-10 Batch 4:  loss: 0.02982989512383938, valid_accuracy: 0.7142000198364258\n",
      "Epoch 32, CIFAR-10 Batch 5:  loss: 0.028336912393569946, valid_accuracy: 0.7197999954223633\n"
     ]
    }
   ],
   "source": [
    "\"\"\"\n",
    "DON'T MODIFY ANYTHING IN THIS CELL\n",
    "\"\"\"\n",
    "save_model_path = './image_classification'\n",
    "\n",
    "print('Training...')\n",
    "with tf.Session() as sess:\n",
    "    # Initializing the variables\n",
    "    sess.run(tf.global_variables_initializer())\n",
    "    \n",
    "    # Training cycle\n",
    "    for epoch in range(epochs):\n",
    "        # Loop over all batches\n",
    "        n_batches = 5\n",
    "        for batch_i in range(1, n_batches + 1):\n",
    "            for batch_features, batch_labels in helper.load_preprocess_training_batch(batch_i, batch_size):\n",
    "                train_neural_network(sess, optimizer, keep_probability, batch_features, batch_labels)\n",
    "            print('Epoch {:>2}, CIFAR-10 Batch {}:  '.format(epoch + 1, batch_i), end='')\n",
    "            print_stats(sess, batch_features, batch_labels, cost, accuracy)\n",
    "            \n",
    "    # Save Model\n",
    "    saver = tf.train.Saver()\n",
    "    save_path = saver.save(sess, save_model_path)"
   ]
  },
  {
   "cell_type": "markdown",
   "metadata": {},
   "source": [
    "# Checkpoint\n",
    "The model has been saved to disk.\n",
    "## Test Model\n",
    "Test your model against the test dataset.  This will be your final accuracy. You should have an accuracy greater than 50%. If you don't, keep tweaking the model architecture and parameters."
   ]
  },
  {
   "cell_type": "code",
   "execution_count": 18,
   "metadata": {},
   "outputs": [
    {
     "name": "stdout",
     "output_type": "stream",
     "text": [
      "INFO:tensorflow:Restoring parameters from ./image_classification\n",
      "Testing Accuracy: 0.716796875\n",
      "\n"
     ]
    },
    {
     "data": {
      "image/png": "[encoded data removed]",
      "text/plain": [
       "<matplotlib.figure.Figure at 0x1e103555390>"
      ]
     },
     "metadata": {
      "image/png": {
       "height": 319,
       "width": 355
      }
     },
     "output_type": "display_data"
    }
   ],
   "source": [
    "\"\"\"\n",
    "DON'T MODIFY ANYTHING IN THIS CELL\n",
    "\"\"\"\n",
    "%matplotlib inline\n",
    "%config InlineBackend.figure_format = 'retina'\n",
    "\n",
    "import tensorflow as tf\n",
    "import pickle\n",
    "import helper\n",
    "import random\n",
    "\n",
    "# Set batch size if not already set\n",
    "try:\n",
    "    if batch_size:\n",
    "        pass\n",
    "except NameError:\n",
    "    batch_size = 64\n",
    "\n",
    "save_model_path = './image_classification'\n",
    "n_samples = 4\n",
    "top_n_predictions = 3\n",
    "\n",
    "def test_model():\n",
    "    \"\"\"\n",
    "    Test the saved model against the test dataset\n",
    "    \"\"\"\n",
    "\n",
    "    test_features, test_labels = pickle.load(open('preprocess_training.p', mode='rb'))\n",
    "    loaded_graph = tf.Graph()\n",
    "\n",
    "    with tf.Session(graph=loaded_graph) as sess:\n",
    "        # Load model\n",
    "        loader = tf.train.import_meta_graph(save_model_path + '.meta')\n",
    "        loader.restore(sess, save_model_path)\n",
    "\n",
    "        # Get Tensors from loaded model\n",
    "        loaded_x = loaded_graph.get_tensor_by_name('x:0')\n",
    "        loaded_y = loaded_graph.get_tensor_by_name('y:0')\n",
    "        loaded_keep_prob = loaded_graph.get_tensor_by_name('keep_prob:0')\n",
    "        loaded_logits = loaded_graph.get_tensor_by_name('logits:0')\n",
    "        loaded_acc = loaded_graph.get_tensor_by_name('accuracy:0')\n",
    "        \n",
    "        # Get accuracy in batches for memory limitations\n",
    "        test_batch_acc_total = 0\n",
    "        test_batch_count = 0\n",
    "        \n",
    "        for train_feature_batch, train_label_batch in helper.batch_features_labels(test_features, test_labels, batch_size):\n",
    "            test_batch_acc_total += sess.run(\n",
    "                loaded_acc,\n",
    "                feed_dict={loaded_x: train_feature_batch, loaded_y: train_label_batch, loaded_keep_prob: 1.0})\n",
    "            test_batch_count += 1\n",
    "\n",
    "        print('Testing Accuracy: {}\\n'.format(test_batch_acc_total/test_batch_count))\n",
    "\n",
    "        # Print Random Samples\n",
    "        random_test_features, random_test_labels = tuple(zip(*random.sample(list(zip(test_features, test_labels)), n_samples)))\n",
    "        random_test_predictions = sess.run(\n",
    "            tf.nn.top_k(tf.nn.softmax(loaded_logits), top_n_predictions),\n",
    "            feed_dict={loaded_x: random_test_features, loaded_y: random_test_labels, loaded_keep_prob: 1.0})\n",
    "        helper.display_image_predictions(random_test_features, random_test_labels, random_test_predictions)\n",
    "\n",
    "\n",
    "test_model()"
   ]
  },
  {
   "cell_type": "markdown",
   "metadata": {},
   "source": [
    "## Why 50-80% Accuracy?\n",
    "You might be wondering why you can't get an accuracy any higher. First things first, 50% isn't bad for a simple CNN.  Pure guessing would get you 10% accuracy. That's because there are many more techniques that can be applied to your model and we recemmond that once you are done with this project, you explore!\n",
    "\n",
    "## Submitting This Project\n",
    "When submitting this project, make sure to run all the cells before saving the notebook.  Save the notebook file as \"image_classification.ipynb\" and save it as a HTML file under \"File\" -> \"Download as\".  Include the \"helper.py\" and \"problem_unittests.py\" files in your submission."
   ]
  }
 ],
 "metadata": {
  "kernelspec": {
   "display_name": "Python 3",
   "language": "python",
   "name": "python3"
  },
  "language_info": {
   "codemirror_mode": {
    "name": "ipython",
    "version": 3
   },
   "file_extension": ".py",
   "mimetype": "text/x-python",
   "name": "python",
   "nbconvert_exporter": "python",
   "pygments_lexer": "ipython3",
   "version": "3.5.3"
  }
 },
 "nbformat": 4,
 "nbformat_minor": 1
}
